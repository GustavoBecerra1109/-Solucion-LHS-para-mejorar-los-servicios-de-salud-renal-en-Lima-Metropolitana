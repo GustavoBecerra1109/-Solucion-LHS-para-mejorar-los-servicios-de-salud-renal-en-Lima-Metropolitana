{
 "cells": [
  {
   "cell_type": "code",
   "execution_count": 1,
   "metadata": {},
   "outputs": [],
   "source": [
    "#Libraries\n",
    "import pandas as pd\n",
    "import numpy as np\n",
    "from sklearn import tree\n",
    "import random\n",
    "import seaborn as sns\n",
    "import matplotlib.pyplot as plt\n",
    "from math import sqrt\n",
    "from sklearn.model_selection import train_test_split\n",
    "from sklearn.preprocessing import LabelEncoder\n",
    "from sklearn.metrics import classification_report\n",
    "from sklearn.metrics import accuracy_score\n",
    "from sklearn.metrics import confusion_matrix\n",
    "from sklearn.metrics import mean_absolute_error\n",
    "from sklearn.metrics import mean_squared_error"
   ]
  },
  {
   "cell_type": "code",
   "execution_count": 2,
   "metadata": {},
   "outputs": [],
   "source": [
    "#Setup\n",
    "from pathlib import Path\n",
    "\n",
    "IMAGES_PATH = Path() / \"results\"\n",
    "IMAGES_PATH.mkdir(parents=True, exist_ok=True)\n",
    "\n",
    "def save_fig(fig_id, tight_layout=True, fig_extension=\"jpg\", resolution=300):\n",
    "    path = IMAGES_PATH / f\"{fig_id}.{fig_extension}\"\n",
    "    if tight_layout:\n",
    "        plt.tight_layout()\n",
    "    plt.savefig(path, format=fig_extension, dpi=resolution)"
   ]
  },
  {
   "cell_type": "code",
   "execution_count": 3,
   "metadata": {},
   "outputs": [
    {
     "data": {
      "text/html": [
       "<div>\n",
       "<style scoped>\n",
       "    .dataframe tbody tr th:only-of-type {\n",
       "        vertical-align: middle;\n",
       "    }\n",
       "\n",
       "    .dataframe tbody tr th {\n",
       "        vertical-align: top;\n",
       "    }\n",
       "\n",
       "    .dataframe thead th {\n",
       "        text-align: right;\n",
       "    }\n",
       "</style>\n",
       "<table border=\"1\" class=\"dataframe\">\n",
       "  <thead>\n",
       "    <tr style=\"text-align: right;\">\n",
       "      <th></th>\n",
       "      <th>age</th>\n",
       "      <th>bp</th>\n",
       "      <th>sg</th>\n",
       "      <th>al</th>\n",
       "      <th>su</th>\n",
       "      <th>rbc</th>\n",
       "      <th>pc</th>\n",
       "      <th>pcc</th>\n",
       "      <th>ba</th>\n",
       "      <th>bgr</th>\n",
       "      <th>...</th>\n",
       "      <th>pcv</th>\n",
       "      <th>wc</th>\n",
       "      <th>rc</th>\n",
       "      <th>htn</th>\n",
       "      <th>dm</th>\n",
       "      <th>cad</th>\n",
       "      <th>appet</th>\n",
       "      <th>pe</th>\n",
       "      <th>ane</th>\n",
       "      <th>classification</th>\n",
       "    </tr>\n",
       "  </thead>\n",
       "  <tbody>\n",
       "    <tr>\n",
       "      <th>0</th>\n",
       "      <td>48.0</td>\n",
       "      <td>80.0</td>\n",
       "      <td>1.020</td>\n",
       "      <td>1.0</td>\n",
       "      <td>0.0</td>\n",
       "      <td>1</td>\n",
       "      <td>1</td>\n",
       "      <td>0</td>\n",
       "      <td>0</td>\n",
       "      <td>121.0</td>\n",
       "      <td>...</td>\n",
       "      <td>44.0</td>\n",
       "      <td>7800.0</td>\n",
       "      <td>5.20</td>\n",
       "      <td>1</td>\n",
       "      <td>1</td>\n",
       "      <td>0</td>\n",
       "      <td>0</td>\n",
       "      <td>0</td>\n",
       "      <td>0</td>\n",
       "      <td>0</td>\n",
       "    </tr>\n",
       "    <tr>\n",
       "      <th>1</th>\n",
       "      <td>7.0</td>\n",
       "      <td>50.0</td>\n",
       "      <td>1.020</td>\n",
       "      <td>4.0</td>\n",
       "      <td>0.0</td>\n",
       "      <td>1</td>\n",
       "      <td>1</td>\n",
       "      <td>0</td>\n",
       "      <td>0</td>\n",
       "      <td>121.2</td>\n",
       "      <td>...</td>\n",
       "      <td>38.0</td>\n",
       "      <td>6000.0</td>\n",
       "      <td>5.26</td>\n",
       "      <td>0</td>\n",
       "      <td>0</td>\n",
       "      <td>0</td>\n",
       "      <td>0</td>\n",
       "      <td>0</td>\n",
       "      <td>0</td>\n",
       "      <td>0</td>\n",
       "    </tr>\n",
       "    <tr>\n",
       "      <th>2</th>\n",
       "      <td>62.0</td>\n",
       "      <td>80.0</td>\n",
       "      <td>1.010</td>\n",
       "      <td>2.0</td>\n",
       "      <td>3.0</td>\n",
       "      <td>1</td>\n",
       "      <td>1</td>\n",
       "      <td>0</td>\n",
       "      <td>0</td>\n",
       "      <td>423.0</td>\n",
       "      <td>...</td>\n",
       "      <td>31.0</td>\n",
       "      <td>7500.0</td>\n",
       "      <td>4.32</td>\n",
       "      <td>0</td>\n",
       "      <td>1</td>\n",
       "      <td>0</td>\n",
       "      <td>1</td>\n",
       "      <td>0</td>\n",
       "      <td>1</td>\n",
       "      <td>0</td>\n",
       "    </tr>\n",
       "    <tr>\n",
       "      <th>3</th>\n",
       "      <td>48.0</td>\n",
       "      <td>70.0</td>\n",
       "      <td>1.005</td>\n",
       "      <td>4.0</td>\n",
       "      <td>0.0</td>\n",
       "      <td>1</td>\n",
       "      <td>0</td>\n",
       "      <td>1</td>\n",
       "      <td>0</td>\n",
       "      <td>117.0</td>\n",
       "      <td>...</td>\n",
       "      <td>32.0</td>\n",
       "      <td>6700.0</td>\n",
       "      <td>3.90</td>\n",
       "      <td>1</td>\n",
       "      <td>0</td>\n",
       "      <td>0</td>\n",
       "      <td>1</td>\n",
       "      <td>1</td>\n",
       "      <td>1</td>\n",
       "      <td>0</td>\n",
       "    </tr>\n",
       "    <tr>\n",
       "      <th>4</th>\n",
       "      <td>51.0</td>\n",
       "      <td>80.0</td>\n",
       "      <td>1.010</td>\n",
       "      <td>2.0</td>\n",
       "      <td>0.0</td>\n",
       "      <td>1</td>\n",
       "      <td>1</td>\n",
       "      <td>0</td>\n",
       "      <td>0</td>\n",
       "      <td>106.0</td>\n",
       "      <td>...</td>\n",
       "      <td>35.0</td>\n",
       "      <td>7300.0</td>\n",
       "      <td>4.60</td>\n",
       "      <td>0</td>\n",
       "      <td>0</td>\n",
       "      <td>0</td>\n",
       "      <td>0</td>\n",
       "      <td>0</td>\n",
       "      <td>0</td>\n",
       "      <td>0</td>\n",
       "    </tr>\n",
       "    <tr>\n",
       "      <th>...</th>\n",
       "      <td>...</td>\n",
       "      <td>...</td>\n",
       "      <td>...</td>\n",
       "      <td>...</td>\n",
       "      <td>...</td>\n",
       "      <td>...</td>\n",
       "      <td>...</td>\n",
       "      <td>...</td>\n",
       "      <td>...</td>\n",
       "      <td>...</td>\n",
       "      <td>...</td>\n",
       "      <td>...</td>\n",
       "      <td>...</td>\n",
       "      <td>...</td>\n",
       "      <td>...</td>\n",
       "      <td>...</td>\n",
       "      <td>...</td>\n",
       "      <td>...</td>\n",
       "      <td>...</td>\n",
       "      <td>...</td>\n",
       "      <td>...</td>\n",
       "    </tr>\n",
       "    <tr>\n",
       "      <th>395</th>\n",
       "      <td>55.0</td>\n",
       "      <td>80.0</td>\n",
       "      <td>1.020</td>\n",
       "      <td>0.0</td>\n",
       "      <td>0.0</td>\n",
       "      <td>1</td>\n",
       "      <td>1</td>\n",
       "      <td>0</td>\n",
       "      <td>0</td>\n",
       "      <td>140.0</td>\n",
       "      <td>...</td>\n",
       "      <td>47.0</td>\n",
       "      <td>6700.0</td>\n",
       "      <td>4.90</td>\n",
       "      <td>0</td>\n",
       "      <td>0</td>\n",
       "      <td>0</td>\n",
       "      <td>0</td>\n",
       "      <td>0</td>\n",
       "      <td>0</td>\n",
       "      <td>1</td>\n",
       "    </tr>\n",
       "    <tr>\n",
       "      <th>396</th>\n",
       "      <td>42.0</td>\n",
       "      <td>70.0</td>\n",
       "      <td>1.025</td>\n",
       "      <td>0.0</td>\n",
       "      <td>0.0</td>\n",
       "      <td>1</td>\n",
       "      <td>1</td>\n",
       "      <td>0</td>\n",
       "      <td>0</td>\n",
       "      <td>75.0</td>\n",
       "      <td>...</td>\n",
       "      <td>54.0</td>\n",
       "      <td>7800.0</td>\n",
       "      <td>6.20</td>\n",
       "      <td>0</td>\n",
       "      <td>0</td>\n",
       "      <td>0</td>\n",
       "      <td>0</td>\n",
       "      <td>0</td>\n",
       "      <td>0</td>\n",
       "      <td>1</td>\n",
       "    </tr>\n",
       "    <tr>\n",
       "      <th>397</th>\n",
       "      <td>12.0</td>\n",
       "      <td>80.0</td>\n",
       "      <td>1.020</td>\n",
       "      <td>0.0</td>\n",
       "      <td>0.0</td>\n",
       "      <td>1</td>\n",
       "      <td>1</td>\n",
       "      <td>0</td>\n",
       "      <td>0</td>\n",
       "      <td>100.0</td>\n",
       "      <td>...</td>\n",
       "      <td>49.0</td>\n",
       "      <td>6600.0</td>\n",
       "      <td>5.40</td>\n",
       "      <td>0</td>\n",
       "      <td>0</td>\n",
       "      <td>0</td>\n",
       "      <td>0</td>\n",
       "      <td>0</td>\n",
       "      <td>0</td>\n",
       "      <td>1</td>\n",
       "    </tr>\n",
       "    <tr>\n",
       "      <th>398</th>\n",
       "      <td>17.0</td>\n",
       "      <td>60.0</td>\n",
       "      <td>1.025</td>\n",
       "      <td>0.0</td>\n",
       "      <td>0.0</td>\n",
       "      <td>1</td>\n",
       "      <td>1</td>\n",
       "      <td>0</td>\n",
       "      <td>0</td>\n",
       "      <td>114.0</td>\n",
       "      <td>...</td>\n",
       "      <td>51.0</td>\n",
       "      <td>7200.0</td>\n",
       "      <td>5.90</td>\n",
       "      <td>0</td>\n",
       "      <td>0</td>\n",
       "      <td>0</td>\n",
       "      <td>0</td>\n",
       "      <td>0</td>\n",
       "      <td>0</td>\n",
       "      <td>1</td>\n",
       "    </tr>\n",
       "    <tr>\n",
       "      <th>399</th>\n",
       "      <td>58.0</td>\n",
       "      <td>80.0</td>\n",
       "      <td>1.025</td>\n",
       "      <td>0.0</td>\n",
       "      <td>0.0</td>\n",
       "      <td>1</td>\n",
       "      <td>1</td>\n",
       "      <td>0</td>\n",
       "      <td>0</td>\n",
       "      <td>131.0</td>\n",
       "      <td>...</td>\n",
       "      <td>53.0</td>\n",
       "      <td>6800.0</td>\n",
       "      <td>6.10</td>\n",
       "      <td>0</td>\n",
       "      <td>0</td>\n",
       "      <td>0</td>\n",
       "      <td>0</td>\n",
       "      <td>0</td>\n",
       "      <td>0</td>\n",
       "      <td>1</td>\n",
       "    </tr>\n",
       "  </tbody>\n",
       "</table>\n",
       "<p>400 rows × 25 columns</p>\n",
       "</div>"
      ],
      "text/plain": [
       "      age    bp     sg   al   su  rbc  pc  pcc  ba    bgr  ...   pcv      wc  \\\n",
       "0    48.0  80.0  1.020  1.0  0.0    1   1    0   0  121.0  ...  44.0  7800.0   \n",
       "1     7.0  50.0  1.020  4.0  0.0    1   1    0   0  121.2  ...  38.0  6000.0   \n",
       "2    62.0  80.0  1.010  2.0  3.0    1   1    0   0  423.0  ...  31.0  7500.0   \n",
       "3    48.0  70.0  1.005  4.0  0.0    1   0    1   0  117.0  ...  32.0  6700.0   \n",
       "4    51.0  80.0  1.010  2.0  0.0    1   1    0   0  106.0  ...  35.0  7300.0   \n",
       "..    ...   ...    ...  ...  ...  ...  ..  ...  ..    ...  ...   ...     ...   \n",
       "395  55.0  80.0  1.020  0.0  0.0    1   1    0   0  140.0  ...  47.0  6700.0   \n",
       "396  42.0  70.0  1.025  0.0  0.0    1   1    0   0   75.0  ...  54.0  7800.0   \n",
       "397  12.0  80.0  1.020  0.0  0.0    1   1    0   0  100.0  ...  49.0  6600.0   \n",
       "398  17.0  60.0  1.025  0.0  0.0    1   1    0   0  114.0  ...  51.0  7200.0   \n",
       "399  58.0  80.0  1.025  0.0  0.0    1   1    0   0  131.0  ...  53.0  6800.0   \n",
       "\n",
       "       rc  htn  dm  cad  appet  pe  ane  classification  \n",
       "0    5.20    1   1    0      0   0    0               0  \n",
       "1    5.26    0   0    0      0   0    0               0  \n",
       "2    4.32    0   1    0      1   0    1               0  \n",
       "3    3.90    1   0    0      1   1    1               0  \n",
       "4    4.60    0   0    0      0   0    0               0  \n",
       "..    ...  ...  ..  ...    ...  ..  ...             ...  \n",
       "395  4.90    0   0    0      0   0    0               1  \n",
       "396  6.20    0   0    0      0   0    0               1  \n",
       "397  5.40    0   0    0      0   0    0               1  \n",
       "398  5.90    0   0    0      0   0    0               1  \n",
       "399  6.10    0   0    0      0   0    0               1  \n",
       "\n",
       "[400 rows x 25 columns]"
      ]
     },
     "execution_count": 3,
     "metadata": {},
     "output_type": "execute_result"
    }
   ],
   "source": [
    "#Read new csv and show\n",
    "df = pd.read_csv('./data/KD.csv')\n",
    "df.drop('Unnamed: 0', axis= 1, inplace= True) #No needed it \n",
    "df"
   ]
  },
  {
   "cell_type": "code",
   "execution_count": 4,
   "metadata": {},
   "outputs": [
    {
     "data": {
      "text/plain": [
       "0    250\n",
       "1    150\n",
       "Name: classification, dtype: int64"
      ]
     },
     "execution_count": 4,
     "metadata": {},
     "output_type": "execute_result"
    }
   ],
   "source": [
    "#Input features with if-sentence\n",
    "col_ot = 'pcv'\n",
    "col_rc = 'rc'\n",
    "col_wc = 'wc'\n",
    "col_used = [col_ot, col_rc, col_wc]\n",
    "col_dep = 'classification' #for predictions\n",
    "all_cols= (df[col_ot]<= 45.0).all() and (df[col_rc] <= 5.20000).all() and (df[col_wc] <= 7300.0).all()\n",
    "\n",
    "#n_pcv =(df[col_ot] >= 45.0).all()\n",
    "if all_cols == True:\n",
    "   col_dep == 0\n",
    "else:\n",
    "   col_dep == 1\n",
    "#col_ot = n_pcv\n",
    "\n",
    "   \n",
    "col_ot1 = [col for col in col_used] #input features\n",
    "\n",
    "df[col_dep].value_counts()"
   ]
  },
  {
   "cell_type": "code",
   "execution_count": 5,
   "metadata": {},
   "outputs": [
    {
     "name": "stdout",
     "output_type": "stream",
     "text": [
      "x_train: 320 \n",
      " y_train: 320 \n",
      " x_test: 80 \n",
      " y_test: 80\n"
     ]
    }
   ],
   "source": [
    "#train_test_split and x, y declarations\n",
    "X = df.iloc[:,:-1]\n",
    "y = df.iloc[:,-1]\n",
    "X_train, X_test, y_train, y_test = train_test_split(X, y, test_size = 0.2, random_state=0)\n",
    "\n",
    "print('x_train:', len(X_train),'\\n',\n",
    "      'y_train:', len(y_train),'\\n',\n",
    "      'x_test:', len(X_test),'\\n',\n",
    "      'y_test:', len(y_test))"
   ]
  },
  {
   "cell_type": "code",
   "execution_count": 6,
   "metadata": {},
   "outputs": [
    {
     "data": {
      "image/png": "[encoded data removed]",
      "text/plain": [
       "<Figure size 1008x432 with 1 Axes>"
      ]
     },
     "metadata": {},
     "output_type": "display_data"
    }
   ],
   "source": [
    "# To see how the data is distributed\n",
    "attr_count = y_train.value_counts()\n",
    "attr_label = y_train.value_counts().index\n",
    "\n",
    "# plot\n",
    "fig, ax = plt.subplots(figsize=(14, 6))\n",
    "ax.pie(attr_count, explode=(0.1, 0), labels=attr_label, autopct='%.2f%%', startangle=90)\n",
    "ax.set_title('Classification', fontsize=15)\n",
    "plt.show()"
   ]
  },
  {
   "cell_type": "code",
   "execution_count": 7,
   "metadata": {},
   "outputs": [
    {
     "name": "stdout",
     "output_type": "stream",
     "text": [
      "Accuracy_score is: 0.9125\n"
     ]
    }
   ],
   "source": [
    "#DTC and accuracy_score\n",
    "acd = tree.DecisionTreeClassifier(random_state=1, max_depth=2, min_samples_leaf=40)\n",
    "\n",
    "model = acd.fit(X_train, y_train)\n",
    "\n",
    "y_pred = acd.predict(X_test)\n",
    "acd_acc = accuracy_score(y_test, y_pred)\n",
    "\n",
    "print (f\"Accuracy_score is:\" , acd_acc)"
   ]
  },
  {
   "cell_type": "code",
   "execution_count": 8,
   "metadata": {},
   "outputs": [
    {
     "data": {
      "text/plain": [
       "{'ccp_alpha': 0.0,\n",
       " 'class_weight': None,\n",
       " 'criterion': 'gini',\n",
       " 'max_depth': 2,\n",
       " 'max_features': None,\n",
       " 'max_leaf_nodes': None,\n",
       " 'min_impurity_decrease': 0.0,\n",
       " 'min_samples_leaf': 40,\n",
       " 'min_samples_split': 2,\n",
       " 'min_weight_fraction_leaf': 0.0,\n",
       " 'random_state': 1,\n",
       " 'splitter': 'best'}"
      ]
     },
     "execution_count": 8,
     "metadata": {},
     "output_type": "execute_result"
    }
   ],
   "source": [
    "acd.get_params()"
   ]
  },
  {
   "cell_type": "code",
   "execution_count": 9,
   "metadata": {},
   "outputs": [
    {
     "data": {
      "text/plain": [
       "[Text(0.5, 0.8333333333333334, 'X[14] <= 13.25\\ngini = 0.472\\nsamples = 320\\nvalue = [198, 122]'),\n",
       " Text(0.25, 0.5, 'X[15] <= 37.9\\ngini = 0.081\\nsamples = 190\\nvalue = [182, 8]'),\n",
       " Text(0.125, 0.16666666666666666, 'gini = 0.0\\nsamples = 150\\nvalue = [150, 0]'),\n",
       " Text(0.375, 0.16666666666666666, 'gini = 0.32\\nsamples = 40\\nvalue = [32, 8]'),\n",
       " Text(0.75, 0.5, 'X[9] <= 114.6\\ngini = 0.216\\nsamples = 130\\nvalue = [16, 114]'),\n",
       " Text(0.625, 0.16666666666666666, 'gini = 0.0\\nsamples = 73\\nvalue = [0, 73]'),\n",
       " Text(0.875, 0.16666666666666666, 'gini = 0.404\\nsamples = 57\\nvalue = [16, 41]')]"
      ]
     },
     "execution_count": 9,
     "metadata": {},
     "output_type": "execute_result"
    },
    {
     "data": {
      "image/png": "[encoded data removed]",
      "text/plain": [
       "<Figure size 432x288 with 1 Axes>"
      ]
     },
     "metadata": {
      "needs_background": "light"
     },
     "output_type": "display_data"
    }
   ],
   "source": [
    "#Visualization of the tree\n",
    "tree.plot_tree(acd)"
   ]
  },
  {
   "cell_type": "code",
   "execution_count": 10,
   "metadata": {},
   "outputs": [
    {
     "data": {
      "text/plain": [
       "GridSearchCV(cv=10, estimator=DecisionTreeClassifier(random_state=1),\n",
       "             param_grid={'max_depth': [2, 3, 4, 5],\n",
       "                         'min_samples_leaf': [30, 40, 50, 60, 70, 80]},\n",
       "             scoring='accuracy')"
      ]
     },
     "execution_count": 10,
     "metadata": {},
     "output_type": "execute_result"
    }
   ],
   "source": [
    "from sklearn.model_selection import GridSearchCV\n",
    "\n",
    "param_grid = {\n",
    "    'max_depth': [2, 3, 4, 5],\n",
    "    'min_samples_leaf':[30, 40, 50, 60, 70, 80]\n",
    "}\n",
    "\n",
    "grid_search = GridSearchCV(tree.DecisionTreeClassifier(random_state=1), param_grid, cv=10, scoring='accuracy')\n",
    "grid_search.fit(X_train, y_train)"
   ]
  },
  {
   "cell_type": "code",
   "execution_count": 11,
   "metadata": {},
   "outputs": [
    {
     "data": {
      "text/plain": [
       "{'max_depth': 2, 'min_samples_leaf': 40}"
      ]
     },
     "execution_count": 11,
     "metadata": {},
     "output_type": "execute_result"
    }
   ],
   "source": [
    "grid_search.best_params_"
   ]
  },
  {
   "cell_type": "code",
   "execution_count": 12,
   "metadata": {},
   "outputs": [
    {
     "name": "stdout",
     "output_type": "stream",
     "text": [
      "80 80 80\n"
     ]
    }
   ],
   "source": [
    "# Just for examples\n",
    "arr_pcv =[]\n",
    "arr_rc = []\n",
    "arr_wc = []\n",
    "for i in range(80):\n",
    "    arr_pcv.append(random.uniform(0.1,100.0))\n",
    "    arr_rc.append(random.uniform(0.1,10.0))\n",
    "    arr_wc.append(random.uniform(0.1,10000.0))\n",
    "    #print(arr_pcv)\n",
    "print(len(y_pred), len(arr_pcv), len(arr_wc))"
   ]
  },
  {
   "cell_type": "code",
   "execution_count": 13,
   "metadata": {},
   "outputs": [
    {
     "data": {
      "text/html": [
       "<div>\n",
       "<style scoped>\n",
       "    .dataframe tbody tr th:only-of-type {\n",
       "        vertical-align: middle;\n",
       "    }\n",
       "\n",
       "    .dataframe tbody tr th {\n",
       "        vertical-align: top;\n",
       "    }\n",
       "\n",
       "    .dataframe thead th {\n",
       "        text-align: right;\n",
       "    }\n",
       "</style>\n",
       "<table border=\"1\" class=\"dataframe\">\n",
       "  <thead>\n",
       "    <tr style=\"text-align: right;\">\n",
       "      <th></th>\n",
       "      <th>PCV generado</th>\n",
       "      <th>RC generado</th>\n",
       "      <th>WC generado</th>\n",
       "      <th>KND?</th>\n",
       "    </tr>\n",
       "  </thead>\n",
       "  <tbody>\n",
       "    <tr>\n",
       "      <th>0</th>\n",
       "      <td>48.647749</td>\n",
       "      <td>3.952528</td>\n",
       "      <td>5475.215265</td>\n",
       "      <td>0</td>\n",
       "    </tr>\n",
       "    <tr>\n",
       "      <th>1</th>\n",
       "      <td>1.534201</td>\n",
       "      <td>3.971430</td>\n",
       "      <td>9089.584325</td>\n",
       "      <td>1</td>\n",
       "    </tr>\n",
       "    <tr>\n",
       "      <th>2</th>\n",
       "      <td>2.591550</td>\n",
       "      <td>9.707245</td>\n",
       "      <td>6476.182426</td>\n",
       "      <td>1</td>\n",
       "    </tr>\n",
       "    <tr>\n",
       "      <th>3</th>\n",
       "      <td>46.593445</td>\n",
       "      <td>5.570809</td>\n",
       "      <td>9517.388339</td>\n",
       "      <td>0</td>\n",
       "    </tr>\n",
       "    <tr>\n",
       "      <th>4</th>\n",
       "      <td>1.775196</td>\n",
       "      <td>2.639070</td>\n",
       "      <td>5580.518155</td>\n",
       "      <td>0</td>\n",
       "    </tr>\n",
       "    <tr>\n",
       "      <th>...</th>\n",
       "      <td>...</td>\n",
       "      <td>...</td>\n",
       "      <td>...</td>\n",
       "      <td>...</td>\n",
       "    </tr>\n",
       "    <tr>\n",
       "      <th>75</th>\n",
       "      <td>3.115544</td>\n",
       "      <td>7.687275</td>\n",
       "      <td>5947.878446</td>\n",
       "      <td>0</td>\n",
       "    </tr>\n",
       "    <tr>\n",
       "      <th>76</th>\n",
       "      <td>47.270945</td>\n",
       "      <td>1.756997</td>\n",
       "      <td>4855.980125</td>\n",
       "      <td>1</td>\n",
       "    </tr>\n",
       "    <tr>\n",
       "      <th>77</th>\n",
       "      <td>77.332344</td>\n",
       "      <td>6.787294</td>\n",
       "      <td>7652.425377</td>\n",
       "      <td>0</td>\n",
       "    </tr>\n",
       "    <tr>\n",
       "      <th>78</th>\n",
       "      <td>63.507518</td>\n",
       "      <td>5.199012</td>\n",
       "      <td>6240.282350</td>\n",
       "      <td>1</td>\n",
       "    </tr>\n",
       "    <tr>\n",
       "      <th>79</th>\n",
       "      <td>6.691616</td>\n",
       "      <td>0.587740</td>\n",
       "      <td>2036.055655</td>\n",
       "      <td>1</td>\n",
       "    </tr>\n",
       "  </tbody>\n",
       "</table>\n",
       "<p>80 rows × 4 columns</p>\n",
       "</div>"
      ],
      "text/plain": [
       "    PCV generado  RC generado  WC generado  KND?\n",
       "0      48.647749     3.952528  5475.215265     0\n",
       "1       1.534201     3.971430  9089.584325     1\n",
       "2       2.591550     9.707245  6476.182426     1\n",
       "3      46.593445     5.570809  9517.388339     0\n",
       "4       1.775196     2.639070  5580.518155     0\n",
       "..           ...          ...          ...   ...\n",
       "75      3.115544     7.687275  5947.878446     0\n",
       "76     47.270945     1.756997  4855.980125     1\n",
       "77     77.332344     6.787294  7652.425377     0\n",
       "78     63.507518     5.199012  6240.282350     1\n",
       "79      6.691616     0.587740  2036.055655     1\n",
       "\n",
       "[80 rows x 4 columns]"
      ]
     },
     "execution_count": 13,
     "metadata": {},
     "output_type": "execute_result"
    }
   ],
   "source": [
    "pcv_pred = pd.DataFrame({'PCV generado': arr_pcv, 'RC generado': arr_rc, 'WC generado': arr_wc, 'KND?': y_pred})\n",
    "pcv_pred"
   ]
  },
  {
   "cell_type": "code",
   "execution_count": 14,
   "metadata": {},
   "outputs": [
    {
     "data": {
      "text/plain": [
       "array([[26,  2],\n",
       "       [ 5, 47]], dtype=int64)"
      ]
     },
     "execution_count": 14,
     "metadata": {},
     "output_type": "execute_result"
    }
   ],
   "source": [
    "#Matrix Confusion\n",
    "cm = confusion_matrix( y_test, y_pred, labels=[True, False])\n",
    "cm"
   ]
  },
  {
   "cell_type": "code",
   "execution_count": 15,
   "metadata": {},
   "outputs": [
    {
     "data": {
      "image/png": "[encoded data removed]",
      "text/plain": [
       "<Figure size 360x360 with 2 Axes>"
      ]
     },
     "metadata": {
      "needs_background": "light"
     },
     "output_type": "display_data"
    }
   ],
   "source": [
    "# Matrix plot\n",
    "cmn = (cm.astype('float') / cm.sum(axis=1)[:, np.newaxis])#*100\n",
    "fig, ax = plt.subplots(figsize=(5,5))\n",
    "sns.heatmap(cmn,annot=True, cmap='viridis', xticklabels=[\"Positive\", \"Negative\"], yticklabels=[True, False])\n",
    "plt.suptitle(\"Confusion Matrix\", fontsize= 20)\n",
    "plt.ylabel('Actual')\n",
    "plt.xlabel('Predicted')\n",
    "\n",
    "save_fig(\"matrix_confusion\")\n",
    "plt.show()"
   ]
  },
  {
   "cell_type": "code",
   "execution_count": 16,
   "metadata": {},
   "outputs": [
    {
     "name": "stdout",
     "output_type": "stream",
     "text": [
      "              precision    recall  f1-score   support\n",
      "\n",
      "           0       0.96      0.90      0.93        52\n",
      "           1       0.84      0.93      0.88        28\n",
      "\n",
      "    accuracy                           0.91        80\n",
      "   macro avg       0.90      0.92      0.91        80\n",
      "weighted avg       0.92      0.91      0.91        80\n",
      "\n"
     ]
    }
   ],
   "source": [
    "#classification_report\n",
    "print(classification_report(y_test, y_pred))"
   ]
  },
  {
   "cell_type": "code",
   "execution_count": 17,
   "metadata": {},
   "outputs": [
    {
     "name": "stdout",
     "output_type": "stream",
     "text": [
      "The Mean Absolute Error is : 0.0875\n",
      "The Root Mean Squared Erros is: 0.2958039891549808\n"
     ]
    }
   ],
   "source": [
    "#MAE and RMSE\n",
    "mae = mean_absolute_error(y_test, y_pred)\n",
    "rmse = sqrt(mean_squared_error(y_test, y_pred))\n",
    "print(f\"The Mean Absolute Error is :\", mae)\n",
    "print(f\"The Root Mean Squared Erros is:\",rmse)"
   ]
  },
  {
   "cell_type": "code",
   "execution_count": 18,
   "metadata": {},
   "outputs": [
    {
     "name": "stdout",
     "output_type": "stream",
     "text": [
      "accuracy: 0.91\n",
      "precision_score: 0.84\n",
      "recall_score: 0.93\n",
      "f1_score: 0.88\n"
     ]
    }
   ],
   "source": [
    "# Getting precision, recall, F1_score\n",
    "from sklearn.metrics import accuracy_score, precision_score, recall_score, f1_score\n",
    "\n",
    "acc = accuracy_score(y_test, y_pred)\n",
    "acc = round(acc, 2)\n",
    "print('accuracy:', acc)\n",
    "\n",
    "prc = precision_score(y_test, y_pred)\n",
    "prc = round(prc, 2)\n",
    "print('precision_score:', prc)\n",
    "\n",
    "rcll = recall_score(y_test, y_pred)\n",
    "rcll = round(rcll, 2)\n",
    "print('recall_score:', rcll)\n",
    "\n",
    "f1scr = f1_score(y_test, y_pred)\n",
    "f1scr = round(f1scr, 2)\n",
    "print('f1_score:', f1scr)"
   ]
  },
  {
   "cell_type": "code",
   "execution_count": 19,
   "metadata": {},
   "outputs": [
    {
     "data": {
      "image/png": "[encoded data removed]",
      "text/plain": [
       "<Figure size 864x576 with 1 Axes>"
      ]
     },
     "metadata": {
      "needs_background": "light"
     },
     "output_type": "display_data"
    }
   ],
   "source": [
    "# Ploting accuracy, precision_score, recall_score, f1_score\n",
    "\n",
    "# Set width of bar\n",
    "barWidth = 0.15\n",
    "fig = plt.subplots(figsize=(12, 8))\n",
    "\n",
    "# Set height of bar\n",
    "\n",
    "models = ['Decision tree', 'Random Forest']\n",
    "accuracy = [91, 100]\n",
    "precision = [84, 100]\n",
    "recall = [93, 100]\n",
    "f1_score = [88, 100]\n",
    "\n",
    "# St positions of bat on X axis\n",
    "pos1_acc = np.arange(len(accuracy))\n",
    "pos2_pre = [x + barWidth for x in pos1_acc]\n",
    "pos3_rec = [x + barWidth for x in pos2_pre]\n",
    "pos4_f1 = [x + barWidth for x in pos3_rec]\n",
    "\n",
    "# Mat the plot\n",
    "plt.bar(pos1_acc, accuracy, color='darkslategray', width=barWidth, \n",
    "    edgecolor='grey', label='Accuracy')\n",
    "plt.bar(pos2_pre, precision, color='darkolivegreen', width=barWidth,\n",
    "    edgecolor='grey', label='Precision')\n",
    "plt.bar(pos3_rec, recall, color='slategray', width=barWidth,\n",
    "    edgecolor='grey', label='Recall')\n",
    "plt.bar(pos4_f1, f1_score, color='navy', width=barWidth,\n",
    "    edgecolor='grey', label='F1 score')\n",
    "\n",
    "\n",
    "# Adding Xticks\n",
    "plt.ylabel('Porcentaje (%)', fontsize=20)\n",
    "plt.xticks([r + 1.5*barWidth for r in range(len(accuracy))], models, fontsize=20)\n",
    "plt.yticks([20, 40, 60, 80, 100], fontsize=20)\n",
    "\n",
    "plt.legend(fontsize=15, loc=\"upper center\")\n",
    "plt.grid(color=\"black\")\n",
    "save_fig(\"comparison_models\")\n",
    "\n",
    "plt.show()"
   ]
  },
  {
   "cell_type": "code",
   "execution_count": 20,
   "metadata": {},
   "outputs": [],
   "source": [
    "# Getting probabilities\n",
    "y_pred_proba = acd.predict_proba(X_test)\n",
    "y_score = y_pred_proba[:, 1]"
   ]
  },
  {
   "cell_type": "code",
   "execution_count": 29,
   "metadata": {},
   "outputs": [
    {
     "name": "stdout",
     "output_type": "stream",
     "text": [
      "[0.2        0.71929825 1.        ]\n"
     ]
    },
    {
     "data": {
      "image/png": "[encoded data removed]",
      "text/plain": [
       "<Figure size 576x288 with 1 Axes>"
      ]
     },
     "metadata": {
      "needs_background": "light"
     },
     "output_type": "display_data"
    }
   ],
   "source": [
    "from sklearn.metrics import precision_recall_curve\n",
    "\n",
    "precisions, recalls, thresholds = precision_recall_curve(y_test, y_score)\n",
    "threshold = 0.719\n",
    "\n",
    "print(thresholds)\n",
    "# Plotting precision and recall of threshold\n",
    "plt.figure(figsize=(8, 4))\n",
    "plt.plot(thresholds, precisions[:-1], \"b--\", label=\"Precision\", linewidth=2)\n",
    "plt.plot(thresholds, recalls[:-1], \"g-\", label=\"Recall\", linewidth=2)\n",
    "plt.vlines(threshold, 0, 1.0, \"k\", \"dotted\", label=\"threshold\")\n",
    "\n",
    "# Beautifies the figure\n",
    "idx = (thresholds >= threshold).argmax() # First index\n",
    "plt.plot(thresholds[idx], precisions[idx], \"bo\")\n",
    "plt.plot(thresholds[idx], recalls[idx], \"go\")\n",
    "\n",
    "plt.xlabel('Threshold')\n",
    "plt.legend()\n",
    "plt.axis([0, 1, 0, 1])\n",
    "plt.grid()"
   ]
  },
  {
   "cell_type": "code",
   "execution_count": 22,
   "metadata": {},
   "outputs": [
    {
     "data": {
      "image/png": "[encoded data removed]",
      "text/plain": [
       "<Figure size 432x288 with 1 Axes>"
      ]
     },
     "metadata": {
      "needs_background": "light"
     },
     "output_type": "display_data"
    }
   ],
   "source": [
    "import matplotlib.patches as patches # extra-code - for the curved arrow\n",
    "from sklearn.metrics import precision_recall_curve\n",
    "\n",
    "precisions, recalls, thresholds = precision_recall_curve(y_test, y_score)\n",
    "threshold = 0.719\n",
    "\n",
    "# Plot the curve\n",
    "plt.plot(recalls, precisions, \"b-\", linewidth=2, label=\"Decision Tree\")\n",
    "\n",
    "# Plot the dot\n",
    "idx = (thresholds >= threshold).argmax()\n",
    "plt.plot([recalls[idx]], [precisions[idx]], \"ko\", label=\"Point at threshold \")\n",
    "plt.plot([0.0, recalls[idx]], [precisions[idx], precisions[idx]], \"k:\")\n",
    "plt.plot([recalls[idx], recalls[idx]], [0., precisions[idx]], \"k:\")\n",
    "\n",
    "plt.gca().add_patch(patches.FancyArrowPatch(\n",
    "    (0.60, 0.6), (0.93, 0.84),\n",
    "    connectionstyle=\"arc3,rad=.2\",\n",
    "    arrowstyle=\"Simple, tail_width=1.5, head_width=8, head_length=10\",\n",
    "    color=\"#444444\"\n",
    "))\n",
    "\n",
    "plt.text(0.50, 0.6, \"threshold\\n 0.719\", fontsize=12)\n",
    "plt.title(\"Precision/Recall curve\", fontsize=15)\n",
    "plt.xlabel(\"Recall\")\n",
    "plt.ylabel(\"Precision\")\n",
    "plt.legend()\n",
    "plt.axis([0, 1, 0, 1])\n",
    "plt.grid()\n",
    "\n",
    "save_fig(\"Precision_recall\")\n",
    "plt.show()"
   ]
  },
  {
   "cell_type": "code",
   "execution_count": 30,
   "metadata": {},
   "outputs": [
    {
     "data": {
      "image/png": "[encoded data removed]",
      "text/plain": [
       "<Figure size 432x288 with 1 Axes>"
      ]
     },
     "metadata": {
      "needs_background": "light"
     },
     "output_type": "display_data"
    }
   ],
   "source": [
    "from sklearn.metrics import roc_curve\n",
    "from sklearn.metrics import precision_recall_curve\n",
    "\n",
    "precisions, recalls, thresholds = precision_recall_curve(y_test, y_score)\n",
    "threshold = 0.719\n",
    "\n",
    "fpr, tpr, thresholds = roc_curve(y_test, y_score)\n",
    "idx = (thresholds <= threshold).argmax()\n",
    "\n",
    "plt.plot(fpr, tpr, linewidth=2, label=\"ROC curve\")\n",
    "plt.plot([0, 1], [0, 1], \"k:\", label=\"Random classifier's ROC Curve\")\n",
    "plt.plot([fpr[idx]], [tpr[idx]], \"ko\", label=\"Threshold 0.719\")\n",
    "\n",
    "plt.gca().add_patch(patches.FancyArrowPatch(\n",
    "    (0.2, 0.6), (0.29, 0.95),\n",
    "    connectionstyle=\"arc3,rad=.4\",\n",
    "    arrowstyle=\"Simple, tail_width=1.5, head_width=8, head_length=10\",\n",
    "    color=\"#444444\"))\n",
    "\n",
    "plt.text(0.2, 0.5, \"threshold 0.719\", fontsize=12)\n",
    "plt.title(\"AUC ROC for Decision Tree\", fontsize=15)\n",
    "plt.ylabel(\"True positive rate (Recall)\")\n",
    "plt.xlabel(\"False positive rate (Fall-out)\")\n",
    "#plt.axis([0, 1, 0, 1])\n",
    "plt.grid()\n",
    "plt.legend()\n",
    "\n",
    "save_fig(\"AUC ROC\")\n",
    "plt.show()"
   ]
  },
  {
   "cell_type": "code",
   "execution_count": 24,
   "metadata": {},
   "outputs": [
    {
     "name": "stdout",
     "output_type": "stream",
     "text": [
      "roc_auc_scr: 0.950206043956044\n"
     ]
    }
   ],
   "source": [
    "# Plotting ROC AUC\n",
    "from sklearn.metrics import roc_auc_score\n",
    "\n",
    "roc_auc_scr = roc_auc_score(y_test, y_score)\n",
    "print('roc_auc_scr:', roc_auc_scr)"
   ]
  },
  {
   "cell_type": "code",
   "execution_count": 25,
   "metadata": {},
   "outputs": [
    {
     "name": "stdout",
     "output_type": "stream",
     "text": [
      "Average Accuracy Score [0.96875 0.875   0.9375  0.9375  0.9375  0.9375  0.9375  0.875   0.875\n",
      " 0.875  ]\n",
      "Median: 0.915625\n"
     ]
    }
   ],
   "source": [
    "# Using cross_val_score for gaining average accuracy\n",
    "\n",
    "from sklearn.model_selection import cross_val_score\n",
    "score = cross_val_score(acd, X_train, y_train, cv=10)\n",
    "print('Average Accuracy Score {}'.format(score))\n",
    "print('Median:', score.mean())"
   ]
  },
  {
   "cell_type": "code",
   "execution_count": 26,
   "metadata": {},
   "outputs": [
    {
     "name": "stdout",
     "output_type": "stream",
     "text": [
      "Accuracy_score on test is: 0.9125\n"
     ]
    }
   ],
   "source": [
    "y_pred = acd.predict(X_test)\n",
    "acd_acc = accuracy_score(y_test, y_pred)\n",
    "\n",
    "print (f\"Accuracy_score on test is:\" , acd_acc)"
   ]
  },
  {
   "cell_type": "code",
   "execution_count": 27,
   "metadata": {},
   "outputs": [
    {
     "name": "stdout",
     "output_type": "stream",
     "text": [
      "Accuracy_score on train is: 0.925\n"
     ]
    }
   ],
   "source": [
    "y_pred = acd.predict(X_train)\n",
    "acd_acc = accuracy_score(y_train, y_pred)\n",
    "\n",
    "print (f\"Accuracy_score on train is:\" , acd_acc)"
   ]
  }
 ],
 "metadata": {
  "kernelspec": {
   "display_name": "Python 3.9.12 ('tf')",
   "language": "python",
   "name": "python3"
  },
  "language_info": {
   "codemirror_mode": {
    "name": "ipython",
    "version": 3
   },
   "file_extension": ".py",
   "mimetype": "text/x-python",
   "name": "python",
   "nbconvert_exporter": "python",
   "pygments_lexer": "ipython3",
   "version": "3.9.12"
  },
  "orig_nbformat": 4,
  "vscode": {
   "interpreter": {
    "hash": "887ac75dc2cc3f5c9b6c7d03229781a4721934165547f85f767493abca5ce374"
   }
  }
 },
 "nbformat": 4,
 "nbformat_minor": 2
}
