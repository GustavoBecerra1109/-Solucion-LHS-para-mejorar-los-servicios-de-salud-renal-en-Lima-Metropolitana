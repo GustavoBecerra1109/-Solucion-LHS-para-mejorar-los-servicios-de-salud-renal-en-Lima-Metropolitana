{
 "cells": [
  {
   "cell_type": "code",
   "execution_count": 1,
   "metadata": {},
   "outputs": [],
   "source": [
    "import pandas as pd\n",
    "import numpy as np\n",
    "import matplotlib.pyplot as plt\n",
    "from sklearn.impute import KNNImputer\n",
    "#import pandas_profiling as pp"
   ]
  },
  {
   "cell_type": "code",
   "execution_count": 2,
   "metadata": {},
   "outputs": [
    {
     "data": {
      "text/plain": [
       "id                 0.00\n",
       "age                2.25\n",
       "bp                 3.00\n",
       "sg                11.75\n",
       "al                11.50\n",
       "su                12.25\n",
       "rbc               38.00\n",
       "pc                16.25\n",
       "pcc                1.00\n",
       "ba                 1.00\n",
       "bgr               11.00\n",
       "bu                 4.75\n",
       "sc                 4.25\n",
       "sod               21.75\n",
       "pot               22.00\n",
       "hemo              13.00\n",
       "pcv               17.50\n",
       "wc                26.25\n",
       "rc                32.50\n",
       "htn                0.50\n",
       "dm                 0.50\n",
       "cad                0.50\n",
       "appet              0.25\n",
       "pe                 0.25\n",
       "ane                0.25\n",
       "classification     0.00\n",
       "dtype: float64"
      ]
     },
     "execution_count": 2,
     "metadata": {},
     "output_type": "execute_result"
    }
   ],
   "source": [
    "df = pd.read_csv('C:/Users/Elizabeth/Downloads/kidney_disease.csv')\n",
    "df.describe()\n",
    "(df.isnull().sum()/df.shape[0] * 100.00).round(2)"
   ]
  },
  {
   "cell_type": "code",
   "execution_count": 3,
   "metadata": {},
   "outputs": [],
   "source": [
    "df.drop('id', axis= 1, inplace= True) #No needed it"
   ]
  },
  {
   "cell_type": "code",
   "execution_count": 4,
   "metadata": {},
   "outputs": [
    {
     "data": {
      "text/html": [
       "<div>\n",
       "<style scoped>\n",
       "    .dataframe tbody tr th:only-of-type {\n",
       "        vertical-align: middle;\n",
       "    }\n",
       "\n",
       "    .dataframe tbody tr th {\n",
       "        vertical-align: top;\n",
       "    }\n",
       "\n",
       "    .dataframe thead th {\n",
       "        text-align: right;\n",
       "    }\n",
       "</style>\n",
       "<table border=\"1\" class=\"dataframe\">\n",
       "  <thead>\n",
       "    <tr style=\"text-align: right;\">\n",
       "      <th></th>\n",
       "      <th>age</th>\n",
       "      <th>bp</th>\n",
       "      <th>sg</th>\n",
       "      <th>al</th>\n",
       "      <th>su</th>\n",
       "      <th>rbc</th>\n",
       "      <th>pc</th>\n",
       "      <th>pcc</th>\n",
       "      <th>ba</th>\n",
       "      <th>bgr</th>\n",
       "      <th>...</th>\n",
       "      <th>pcv</th>\n",
       "      <th>wc</th>\n",
       "      <th>rc</th>\n",
       "      <th>htn</th>\n",
       "      <th>dm</th>\n",
       "      <th>cad</th>\n",
       "      <th>appet</th>\n",
       "      <th>pe</th>\n",
       "      <th>ane</th>\n",
       "      <th>classification</th>\n",
       "    </tr>\n",
       "  </thead>\n",
       "  <tbody>\n",
       "    <tr>\n",
       "      <th>0</th>\n",
       "      <td>48.0</td>\n",
       "      <td>80.0</td>\n",
       "      <td>1.020</td>\n",
       "      <td>1.0</td>\n",
       "      <td>0.0</td>\n",
       "      <td>NaN</td>\n",
       "      <td>normal</td>\n",
       "      <td>notpresent</td>\n",
       "      <td>notpresent</td>\n",
       "      <td>121.0</td>\n",
       "      <td>...</td>\n",
       "      <td>44</td>\n",
       "      <td>7800</td>\n",
       "      <td>5.2</td>\n",
       "      <td>yes</td>\n",
       "      <td>yes</td>\n",
       "      <td>no</td>\n",
       "      <td>good</td>\n",
       "      <td>no</td>\n",
       "      <td>no</td>\n",
       "      <td>ckd</td>\n",
       "    </tr>\n",
       "    <tr>\n",
       "      <th>1</th>\n",
       "      <td>7.0</td>\n",
       "      <td>50.0</td>\n",
       "      <td>1.020</td>\n",
       "      <td>4.0</td>\n",
       "      <td>0.0</td>\n",
       "      <td>NaN</td>\n",
       "      <td>normal</td>\n",
       "      <td>notpresent</td>\n",
       "      <td>notpresent</td>\n",
       "      <td>NaN</td>\n",
       "      <td>...</td>\n",
       "      <td>38</td>\n",
       "      <td>6000</td>\n",
       "      <td>NaN</td>\n",
       "      <td>no</td>\n",
       "      <td>no</td>\n",
       "      <td>no</td>\n",
       "      <td>good</td>\n",
       "      <td>no</td>\n",
       "      <td>no</td>\n",
       "      <td>ckd</td>\n",
       "    </tr>\n",
       "    <tr>\n",
       "      <th>2</th>\n",
       "      <td>62.0</td>\n",
       "      <td>80.0</td>\n",
       "      <td>1.010</td>\n",
       "      <td>2.0</td>\n",
       "      <td>3.0</td>\n",
       "      <td>normal</td>\n",
       "      <td>normal</td>\n",
       "      <td>notpresent</td>\n",
       "      <td>notpresent</td>\n",
       "      <td>423.0</td>\n",
       "      <td>...</td>\n",
       "      <td>31</td>\n",
       "      <td>7500</td>\n",
       "      <td>NaN</td>\n",
       "      <td>no</td>\n",
       "      <td>yes</td>\n",
       "      <td>no</td>\n",
       "      <td>poor</td>\n",
       "      <td>no</td>\n",
       "      <td>yes</td>\n",
       "      <td>ckd</td>\n",
       "    </tr>\n",
       "    <tr>\n",
       "      <th>3</th>\n",
       "      <td>48.0</td>\n",
       "      <td>70.0</td>\n",
       "      <td>1.005</td>\n",
       "      <td>4.0</td>\n",
       "      <td>0.0</td>\n",
       "      <td>normal</td>\n",
       "      <td>abnormal</td>\n",
       "      <td>present</td>\n",
       "      <td>notpresent</td>\n",
       "      <td>117.0</td>\n",
       "      <td>...</td>\n",
       "      <td>32</td>\n",
       "      <td>6700</td>\n",
       "      <td>3.9</td>\n",
       "      <td>yes</td>\n",
       "      <td>no</td>\n",
       "      <td>no</td>\n",
       "      <td>poor</td>\n",
       "      <td>yes</td>\n",
       "      <td>yes</td>\n",
       "      <td>ckd</td>\n",
       "    </tr>\n",
       "    <tr>\n",
       "      <th>4</th>\n",
       "      <td>51.0</td>\n",
       "      <td>80.0</td>\n",
       "      <td>1.010</td>\n",
       "      <td>2.0</td>\n",
       "      <td>0.0</td>\n",
       "      <td>normal</td>\n",
       "      <td>normal</td>\n",
       "      <td>notpresent</td>\n",
       "      <td>notpresent</td>\n",
       "      <td>106.0</td>\n",
       "      <td>...</td>\n",
       "      <td>35</td>\n",
       "      <td>7300</td>\n",
       "      <td>4.6</td>\n",
       "      <td>no</td>\n",
       "      <td>no</td>\n",
       "      <td>no</td>\n",
       "      <td>good</td>\n",
       "      <td>no</td>\n",
       "      <td>no</td>\n",
       "      <td>ckd</td>\n",
       "    </tr>\n",
       "  </tbody>\n",
       "</table>\n",
       "<p>5 rows × 25 columns</p>\n",
       "</div>"
      ],
      "text/plain": [
       "    age    bp     sg   al   su     rbc        pc         pcc          ba  \\\n",
       "0  48.0  80.0  1.020  1.0  0.0     NaN    normal  notpresent  notpresent   \n",
       "1   7.0  50.0  1.020  4.0  0.0     NaN    normal  notpresent  notpresent   \n",
       "2  62.0  80.0  1.010  2.0  3.0  normal    normal  notpresent  notpresent   \n",
       "3  48.0  70.0  1.005  4.0  0.0  normal  abnormal     present  notpresent   \n",
       "4  51.0  80.0  1.010  2.0  0.0  normal    normal  notpresent  notpresent   \n",
       "\n",
       "     bgr  ...  pcv    wc   rc  htn   dm cad appet   pe  ane classification  \n",
       "0  121.0  ...   44  7800  5.2  yes  yes  no  good   no   no            ckd  \n",
       "1    NaN  ...   38  6000  NaN   no   no  no  good   no   no            ckd  \n",
       "2  423.0  ...   31  7500  NaN   no  yes  no  poor   no  yes            ckd  \n",
       "3  117.0  ...   32  6700  3.9  yes   no  no  poor  yes  yes            ckd  \n",
       "4  106.0  ...   35  7300  4.6   no   no  no  good   no   no            ckd  \n",
       "\n",
       "[5 rows x 25 columns]"
      ]
     },
     "execution_count": 4,
     "metadata": {},
     "output_type": "execute_result"
    }
   ],
   "source": [
    "df.head()"
   ]
  },
  {
   "cell_type": "code",
   "execution_count": 5,
   "metadata": {},
   "outputs": [
    {
     "name": "stdout",
     "output_type": "stream",
     "text": [
      "rbc has [nan 'normal' 'abnormal'] values \n",
      "\n",
      "\n",
      "pc has ['normal' 'abnormal' nan] values \n",
      "\n",
      "\n",
      "pcc has ['notpresent' 'present' nan] values \n",
      "\n",
      "\n",
      "ba has ['notpresent' 'present' nan] values \n",
      "\n",
      "\n",
      "htn has ['yes' 'no' nan] values \n",
      "\n",
      "\n",
      "dm has ['yes' 'no' ' yes' '\\tno' '\\tyes' nan] values \n",
      "\n",
      "\n",
      "cad has ['no' 'yes' '\\tno' nan] values \n",
      "\n",
      "\n",
      "appet has ['good' 'poor' nan] values \n",
      "\n",
      "\n",
      "pe has ['no' 'yes' nan] values \n",
      "\n",
      "\n",
      "ane has ['no' 'yes' nan] values \n",
      "\n",
      "\n",
      "classification has ['ckd' 'ckd\\t' 'notckd'] values \n",
      "\n",
      "\n"
     ]
    }
   ],
   "source": [
    "df['pcv'] = pd.to_numeric(df['pcv'], errors='coerce')\n",
    "df['wc'] = pd.to_numeric(df['wc'], errors='coerce')\n",
    "df['rc'] = pd.to_numeric(df['rc'], errors='coerce')\n",
    "cat_col=[col for col in df.columns if df[col].dtype=='object']\n",
    "for col in cat_col:\n",
    "    print('{} has {} values '.format(col,df[col].unique()))\n",
    "    print('\\n')"
   ]
  },
  {
   "cell_type": "code",
   "execution_count": 6,
   "metadata": {},
   "outputs": [
    {
     "name": "stdout",
     "output_type": "stream",
     "text": [
      "rbc has [nan 'normal' 'abnormal'] values \n",
      "\n",
      "\n",
      "pc has ['normal' 'abnormal' nan] values \n",
      "\n",
      "\n",
      "pcc has ['notpresent' 'present' nan] values \n",
      "\n",
      "\n",
      "ba has ['notpresent' 'present' nan] values \n",
      "\n",
      "\n",
      "htn has ['yes' 'no' nan] values \n",
      "\n",
      "\n",
      "dm has ['yes' 'no' nan] values \n",
      "\n",
      "\n",
      "cad has ['no' 'yes' nan] values \n",
      "\n",
      "\n",
      "appet has ['good' 'poor' nan] values \n",
      "\n",
      "\n",
      "pe has ['no' 'yes' nan] values \n",
      "\n",
      "\n",
      "ane has ['no' 'yes' nan] values \n",
      "\n",
      "\n",
      "classification has ['ckd' 'not ckd'] values \n",
      "\n",
      "\n"
     ]
    }
   ],
   "source": [
    "df['dm'].replace(to_replace = {'\\tno':'no','\\tyes':'yes',' yes':'yes'},inplace=True)\n",
    "df['cad']= df['cad'].replace(to_replace ='\\tno', value='no')\n",
    "df['classification']= df['classification'].replace(to_replace ='ckd\\t', value = 'ckd')\n",
    "df['classification']= df['classification'].replace(to_replace ='notckd', value = 'not ckd')\n",
    "\n",
    "for col in cat_col:\n",
    "    print('{} has {} values '.format(col,df[col].unique()))\n",
    "    print('\\n')"
   ]
  },
  {
   "cell_type": "code",
   "execution_count": 7,
   "metadata": {},
   "outputs": [
    {
     "name": "stdout",
     "output_type": "stream",
     "text": [
      "rbc has [nan 'normal' 'abnormal'] values\n",
      "\n",
      "pc has ['normal' 'abnormal' nan] values\n",
      "\n",
      "pcc has ['notpresent' 'present' nan] values\n",
      "\n",
      "ba has ['notpresent' 'present' nan] values\n",
      "\n",
      "htn has ['yes' 'no' nan] values\n",
      "\n",
      "dm has ['yes' 'no' nan] values\n",
      "\n",
      "cad has ['no' 'yes' nan] values\n",
      "\n",
      "appet has ['good' 'poor' nan] values\n",
      "\n",
      "pe has ['no' 'yes' nan] values\n",
      "\n",
      "ane has ['no' 'yes' nan] values\n",
      "\n",
      "classification has ['ckd' 'not ckd'] values\n",
      "\n"
     ]
    }
   ],
   "source": [
    "from pandas import errors\n",
    "\n",
    "\n",
    "#df['classification']= df['classification'].map({'ckd':0, 'not ckd':1})\n",
    "#df['classification']= pd.to_numeric(df['classification'], errors='coerce')\n",
    "cat_col = [col for col in df.columns if df[col].dtype == 'object']\n",
    "for col in cat_col:\n",
    "    print(f\"{col} has {df[col].unique()} values\\n\")"
   ]
  },
  {
   "cell_type": "code",
   "execution_count": 8,
   "metadata": {},
   "outputs": [],
   "source": [
    "cat_cols = [col for col in df.columns if df[col].dtype =='object']\n",
    "num_cols = [col for col in df.columns if df[col].dtype !='object']\n",
    "num_cols = num_cols[:-1]"
   ]
  },
  {
   "cell_type": "code",
   "execution_count": 9,
   "metadata": {},
   "outputs": [],
   "source": [
    "df_1 = df\n",
    "def imputation(feature):\n",
    "    mean = df[feature].mean()\n",
    "    df[feature] = df[feature].fillna(mean)\n",
    "\n",
    "for col in num_cols:\n",
    "    imputation(col)"
   ]
  },
  {
   "cell_type": "code",
   "execution_count": 10,
   "metadata": {},
   "outputs": [],
   "source": [
    "def impute_mode(feature):\n",
    "    mode = df[feature].mode()[0]\n",
    "    df[feature] = df[feature].fillna(mode)\n",
    "\n",
    "for col in cat_cols:\n",
    "    impute_mode(col)"
   ]
  },
  {
   "cell_type": "code",
   "execution_count": 11,
   "metadata": {},
   "outputs": [
    {
     "data": {
      "text/plain": [
       "age                0.00\n",
       "bp                 0.00\n",
       "sg                 0.00\n",
       "al                 0.00\n",
       "su                 0.00\n",
       "rbc                0.00\n",
       "pc                 0.00\n",
       "pcc                0.00\n",
       "ba                 0.00\n",
       "bgr                0.00\n",
       "bu                 0.00\n",
       "sc                 0.00\n",
       "sod                0.00\n",
       "pot                0.00\n",
       "hemo               0.00\n",
       "pcv                0.00\n",
       "wc                 0.00\n",
       "rc                32.75\n",
       "htn                0.00\n",
       "dm                 0.00\n",
       "cad                0.00\n",
       "appet              0.00\n",
       "pe                 0.00\n",
       "ane                0.00\n",
       "classification     0.00\n",
       "dtype: float64"
      ]
     },
     "execution_count": 11,
     "metadata": {},
     "output_type": "execute_result"
    }
   ],
   "source": [
    "(df.isnull().sum()/df.shape[0]*100.00).round(2)"
   ]
  },
  {
   "cell_type": "code",
   "execution_count": 12,
   "metadata": {},
   "outputs": [],
   "source": [
    "imp = KNNImputer(n_neighbors=11)\n",
    "imp.fit_transform(df_1[num_cols])\n",
    "\n",
    "def impute_mode(feature):\n",
    "    mode = df_1[feature].mode()[0]\n",
    "    df_1[feature] = df_1[feature].fillna(mode)\n",
    "\n",
    "for col in cat_cols:\n",
    "    impute_mode(col)"
   ]
  },
  {
   "cell_type": "code",
   "execution_count": 13,
   "metadata": {},
   "outputs": [
    {
     "data": {
      "text/plain": [
       "age                0.00\n",
       "bp                 0.00\n",
       "sg                 0.00\n",
       "al                 0.00\n",
       "su                 0.00\n",
       "rbc                0.00\n",
       "pc                 0.00\n",
       "pcc                0.00\n",
       "ba                 0.00\n",
       "bgr                0.00\n",
       "bu                 0.00\n",
       "sc                 0.00\n",
       "sod                0.00\n",
       "pot                0.00\n",
       "hemo               0.00\n",
       "pcv                0.00\n",
       "wc                 0.00\n",
       "rc                32.75\n",
       "htn                0.00\n",
       "dm                 0.00\n",
       "cad                0.00\n",
       "appet              0.00\n",
       "pe                 0.00\n",
       "ane                0.00\n",
       "classification     0.00\n",
       "dtype: float64"
      ]
     },
     "execution_count": 13,
     "metadata": {},
     "output_type": "execute_result"
    }
   ],
   "source": [
    "(df_1.isnull().sum()/df_1.shape[0]*100.00).round(2)"
   ]
  },
  {
   "cell_type": "code",
   "execution_count": 15,
   "metadata": {},
   "outputs": [],
   "source": [
    "df.to_csv('C:/Users/Elizabeth/Desktop/Gustavo Becerra/TDP/KD.csv')"
   ]
  }
 ],
 "metadata": {
  "kernelspec": {
   "display_name": "Python 3.10.6 64-bit",
   "language": "python",
   "name": "python3"
  },
  "language_info": {
   "codemirror_mode": {
    "name": "ipython",
    "version": 3
   },
   "file_extension": ".py",
   "mimetype": "text/x-python",
   "name": "python",
   "nbconvert_exporter": "python",
   "pygments_lexer": "ipython3",
   "version": "3.10.6"
  },
  "orig_nbformat": 4,
  "vscode": {
   "interpreter": {
    "hash": "4ebbef23af1c2cf9d7bc8110071cbe6893c227685f39210cd23ab24f64da6999"
   }
  }
 },
 "nbformat": 4,
 "nbformat_minor": 2
}
