{
 "cells": [
  {
   "cell_type": "code",
   "execution_count": 86,
   "metadata": {},
   "outputs": [],
   "source": [
    "#Libraries\n",
    "import pandas as pd\n",
    "import numpy as np\n",
    "import matplotlib.pyplot as plt\n",
    "from math import sqrt\n",
    "from sklearn.model_selection import train_test_split\n",
    "from sklearn.preprocessing import LabelEncoder\n",
    "from sklearn import tree\n",
    "import random\n",
    "import seaborn as sns\n",
    "from sklearn.metrics import classification_report\n",
    "from sklearn.metrics import accuracy_score\n",
    "from sklearn.metrics import confusion_matrix\n",
    "from sklearn.metrics import mean_absolute_error\n",
    "from sklearn.metrics import mean_squared_error"
   ]
  },
  {
   "cell_type": "code",
   "execution_count": 87,
   "metadata": {},
   "outputs": [],
   "source": [
    "#Setup\n",
    "from pathlib import Path\n",
    "\n",
    "IMAGES_PATH = Path() / \"results\"\n",
    "IMAGES_PATH.mkdir(parents=True, exist_ok=True)\n",
    "\n",
    "def save_fig(fig_id, tight_layout=True, fig_extension=\"jpg\", resolution=300):\n",
    "    path = IMAGES_PATH / f\"{fig_id}.{fig_extension}\"\n",
    "    if tight_layout:\n",
    "        plt.tight_layout()\n",
    "    plt.savefig(path, format=fig_extension, dpi=resolution)"
   ]
  },
  {
   "cell_type": "code",
   "execution_count": 88,
   "metadata": {},
   "outputs": [
    {
     "data": {
      "text/html": [
       "<div>\n",
       "<style scoped>\n",
       "    .dataframe tbody tr th:only-of-type {\n",
       "        vertical-align: middle;\n",
       "    }\n",
       "\n",
       "    .dataframe tbody tr th {\n",
       "        vertical-align: top;\n",
       "    }\n",
       "\n",
       "    .dataframe thead th {\n",
       "        text-align: right;\n",
       "    }\n",
       "</style>\n",
       "<table border=\"1\" class=\"dataframe\">\n",
       "  <thead>\n",
       "    <tr style=\"text-align: right;\">\n",
       "      <th></th>\n",
       "      <th>age</th>\n",
       "      <th>bp</th>\n",
       "      <th>sg</th>\n",
       "      <th>al</th>\n",
       "      <th>su</th>\n",
       "      <th>rbc</th>\n",
       "      <th>pc</th>\n",
       "      <th>pcc</th>\n",
       "      <th>ba</th>\n",
       "      <th>bgr</th>\n",
       "      <th>...</th>\n",
       "      <th>pcv</th>\n",
       "      <th>wc</th>\n",
       "      <th>rc</th>\n",
       "      <th>htn</th>\n",
       "      <th>dm</th>\n",
       "      <th>cad</th>\n",
       "      <th>appet</th>\n",
       "      <th>pe</th>\n",
       "      <th>ane</th>\n",
       "      <th>classification</th>\n",
       "    </tr>\n",
       "  </thead>\n",
       "  <tbody>\n",
       "    <tr>\n",
       "      <th>0</th>\n",
       "      <td>48.0</td>\n",
       "      <td>80.0</td>\n",
       "      <td>1.020</td>\n",
       "      <td>1.0</td>\n",
       "      <td>0.0</td>\n",
       "      <td>normal</td>\n",
       "      <td>normal</td>\n",
       "      <td>notpresent</td>\n",
       "      <td>notpresent</td>\n",
       "      <td>121.000000</td>\n",
       "      <td>...</td>\n",
       "      <td>44.0</td>\n",
       "      <td>7800.0</td>\n",
       "      <td>5.200000</td>\n",
       "      <td>yes</td>\n",
       "      <td>yes</td>\n",
       "      <td>no</td>\n",
       "      <td>good</td>\n",
       "      <td>no</td>\n",
       "      <td>no</td>\n",
       "      <td>0</td>\n",
       "    </tr>\n",
       "    <tr>\n",
       "      <th>1</th>\n",
       "      <td>7.0</td>\n",
       "      <td>50.0</td>\n",
       "      <td>1.020</td>\n",
       "      <td>4.0</td>\n",
       "      <td>0.0</td>\n",
       "      <td>normal</td>\n",
       "      <td>normal</td>\n",
       "      <td>notpresent</td>\n",
       "      <td>notpresent</td>\n",
       "      <td>148.036517</td>\n",
       "      <td>...</td>\n",
       "      <td>38.0</td>\n",
       "      <td>6000.0</td>\n",
       "      <td>4.707435</td>\n",
       "      <td>no</td>\n",
       "      <td>no</td>\n",
       "      <td>no</td>\n",
       "      <td>good</td>\n",
       "      <td>no</td>\n",
       "      <td>no</td>\n",
       "      <td>0</td>\n",
       "    </tr>\n",
       "    <tr>\n",
       "      <th>2</th>\n",
       "      <td>62.0</td>\n",
       "      <td>80.0</td>\n",
       "      <td>1.010</td>\n",
       "      <td>2.0</td>\n",
       "      <td>3.0</td>\n",
       "      <td>normal</td>\n",
       "      <td>normal</td>\n",
       "      <td>notpresent</td>\n",
       "      <td>notpresent</td>\n",
       "      <td>423.000000</td>\n",
       "      <td>...</td>\n",
       "      <td>31.0</td>\n",
       "      <td>7500.0</td>\n",
       "      <td>4.707435</td>\n",
       "      <td>no</td>\n",
       "      <td>yes</td>\n",
       "      <td>no</td>\n",
       "      <td>poor</td>\n",
       "      <td>no</td>\n",
       "      <td>yes</td>\n",
       "      <td>0</td>\n",
       "    </tr>\n",
       "    <tr>\n",
       "      <th>3</th>\n",
       "      <td>48.0</td>\n",
       "      <td>70.0</td>\n",
       "      <td>1.005</td>\n",
       "      <td>4.0</td>\n",
       "      <td>0.0</td>\n",
       "      <td>normal</td>\n",
       "      <td>abnormal</td>\n",
       "      <td>present</td>\n",
       "      <td>notpresent</td>\n",
       "      <td>117.000000</td>\n",
       "      <td>...</td>\n",
       "      <td>32.0</td>\n",
       "      <td>6700.0</td>\n",
       "      <td>3.900000</td>\n",
       "      <td>yes</td>\n",
       "      <td>no</td>\n",
       "      <td>no</td>\n",
       "      <td>poor</td>\n",
       "      <td>yes</td>\n",
       "      <td>yes</td>\n",
       "      <td>0</td>\n",
       "    </tr>\n",
       "    <tr>\n",
       "      <th>4</th>\n",
       "      <td>51.0</td>\n",
       "      <td>80.0</td>\n",
       "      <td>1.010</td>\n",
       "      <td>2.0</td>\n",
       "      <td>0.0</td>\n",
       "      <td>normal</td>\n",
       "      <td>normal</td>\n",
       "      <td>notpresent</td>\n",
       "      <td>notpresent</td>\n",
       "      <td>106.000000</td>\n",
       "      <td>...</td>\n",
       "      <td>35.0</td>\n",
       "      <td>7300.0</td>\n",
       "      <td>4.600000</td>\n",
       "      <td>no</td>\n",
       "      <td>no</td>\n",
       "      <td>no</td>\n",
       "      <td>good</td>\n",
       "      <td>no</td>\n",
       "      <td>no</td>\n",
       "      <td>0</td>\n",
       "    </tr>\n",
       "    <tr>\n",
       "      <th>...</th>\n",
       "      <td>...</td>\n",
       "      <td>...</td>\n",
       "      <td>...</td>\n",
       "      <td>...</td>\n",
       "      <td>...</td>\n",
       "      <td>...</td>\n",
       "      <td>...</td>\n",
       "      <td>...</td>\n",
       "      <td>...</td>\n",
       "      <td>...</td>\n",
       "      <td>...</td>\n",
       "      <td>...</td>\n",
       "      <td>...</td>\n",
       "      <td>...</td>\n",
       "      <td>...</td>\n",
       "      <td>...</td>\n",
       "      <td>...</td>\n",
       "      <td>...</td>\n",
       "      <td>...</td>\n",
       "      <td>...</td>\n",
       "      <td>...</td>\n",
       "    </tr>\n",
       "    <tr>\n",
       "      <th>395</th>\n",
       "      <td>55.0</td>\n",
       "      <td>80.0</td>\n",
       "      <td>1.020</td>\n",
       "      <td>0.0</td>\n",
       "      <td>0.0</td>\n",
       "      <td>normal</td>\n",
       "      <td>normal</td>\n",
       "      <td>notpresent</td>\n",
       "      <td>notpresent</td>\n",
       "      <td>140.000000</td>\n",
       "      <td>...</td>\n",
       "      <td>47.0</td>\n",
       "      <td>6700.0</td>\n",
       "      <td>4.900000</td>\n",
       "      <td>no</td>\n",
       "      <td>no</td>\n",
       "      <td>no</td>\n",
       "      <td>good</td>\n",
       "      <td>no</td>\n",
       "      <td>no</td>\n",
       "      <td>1</td>\n",
       "    </tr>\n",
       "    <tr>\n",
       "      <th>396</th>\n",
       "      <td>42.0</td>\n",
       "      <td>70.0</td>\n",
       "      <td>1.025</td>\n",
       "      <td>0.0</td>\n",
       "      <td>0.0</td>\n",
       "      <td>normal</td>\n",
       "      <td>normal</td>\n",
       "      <td>notpresent</td>\n",
       "      <td>notpresent</td>\n",
       "      <td>75.000000</td>\n",
       "      <td>...</td>\n",
       "      <td>54.0</td>\n",
       "      <td>7800.0</td>\n",
       "      <td>6.200000</td>\n",
       "      <td>no</td>\n",
       "      <td>no</td>\n",
       "      <td>no</td>\n",
       "      <td>good</td>\n",
       "      <td>no</td>\n",
       "      <td>no</td>\n",
       "      <td>1</td>\n",
       "    </tr>\n",
       "    <tr>\n",
       "      <th>397</th>\n",
       "      <td>12.0</td>\n",
       "      <td>80.0</td>\n",
       "      <td>1.020</td>\n",
       "      <td>0.0</td>\n",
       "      <td>0.0</td>\n",
       "      <td>normal</td>\n",
       "      <td>normal</td>\n",
       "      <td>notpresent</td>\n",
       "      <td>notpresent</td>\n",
       "      <td>100.000000</td>\n",
       "      <td>...</td>\n",
       "      <td>49.0</td>\n",
       "      <td>6600.0</td>\n",
       "      <td>5.400000</td>\n",
       "      <td>no</td>\n",
       "      <td>no</td>\n",
       "      <td>no</td>\n",
       "      <td>good</td>\n",
       "      <td>no</td>\n",
       "      <td>no</td>\n",
       "      <td>1</td>\n",
       "    </tr>\n",
       "    <tr>\n",
       "      <th>398</th>\n",
       "      <td>17.0</td>\n",
       "      <td>60.0</td>\n",
       "      <td>1.025</td>\n",
       "      <td>0.0</td>\n",
       "      <td>0.0</td>\n",
       "      <td>normal</td>\n",
       "      <td>normal</td>\n",
       "      <td>notpresent</td>\n",
       "      <td>notpresent</td>\n",
       "      <td>114.000000</td>\n",
       "      <td>...</td>\n",
       "      <td>51.0</td>\n",
       "      <td>7200.0</td>\n",
       "      <td>5.900000</td>\n",
       "      <td>no</td>\n",
       "      <td>no</td>\n",
       "      <td>no</td>\n",
       "      <td>good</td>\n",
       "      <td>no</td>\n",
       "      <td>no</td>\n",
       "      <td>1</td>\n",
       "    </tr>\n",
       "    <tr>\n",
       "      <th>399</th>\n",
       "      <td>58.0</td>\n",
       "      <td>80.0</td>\n",
       "      <td>1.025</td>\n",
       "      <td>0.0</td>\n",
       "      <td>0.0</td>\n",
       "      <td>normal</td>\n",
       "      <td>normal</td>\n",
       "      <td>notpresent</td>\n",
       "      <td>notpresent</td>\n",
       "      <td>131.000000</td>\n",
       "      <td>...</td>\n",
       "      <td>53.0</td>\n",
       "      <td>6800.0</td>\n",
       "      <td>6.100000</td>\n",
       "      <td>no</td>\n",
       "      <td>no</td>\n",
       "      <td>no</td>\n",
       "      <td>good</td>\n",
       "      <td>no</td>\n",
       "      <td>no</td>\n",
       "      <td>1</td>\n",
       "    </tr>\n",
       "  </tbody>\n",
       "</table>\n",
       "<p>400 rows × 25 columns</p>\n",
       "</div>"
      ],
      "text/plain": [
       "      age    bp     sg   al   su     rbc        pc         pcc          ba  \\\n",
       "0    48.0  80.0  1.020  1.0  0.0  normal    normal  notpresent  notpresent   \n",
       "1     7.0  50.0  1.020  4.0  0.0  normal    normal  notpresent  notpresent   \n",
       "2    62.0  80.0  1.010  2.0  3.0  normal    normal  notpresent  notpresent   \n",
       "3    48.0  70.0  1.005  4.0  0.0  normal  abnormal     present  notpresent   \n",
       "4    51.0  80.0  1.010  2.0  0.0  normal    normal  notpresent  notpresent   \n",
       "..    ...   ...    ...  ...  ...     ...       ...         ...         ...   \n",
       "395  55.0  80.0  1.020  0.0  0.0  normal    normal  notpresent  notpresent   \n",
       "396  42.0  70.0  1.025  0.0  0.0  normal    normal  notpresent  notpresent   \n",
       "397  12.0  80.0  1.020  0.0  0.0  normal    normal  notpresent  notpresent   \n",
       "398  17.0  60.0  1.025  0.0  0.0  normal    normal  notpresent  notpresent   \n",
       "399  58.0  80.0  1.025  0.0  0.0  normal    normal  notpresent  notpresent   \n",
       "\n",
       "            bgr  ...   pcv      wc        rc  htn   dm  cad  appet   pe  ane  \\\n",
       "0    121.000000  ...  44.0  7800.0  5.200000  yes  yes   no   good   no   no   \n",
       "1    148.036517  ...  38.0  6000.0  4.707435   no   no   no   good   no   no   \n",
       "2    423.000000  ...  31.0  7500.0  4.707435   no  yes   no   poor   no  yes   \n",
       "3    117.000000  ...  32.0  6700.0  3.900000  yes   no   no   poor  yes  yes   \n",
       "4    106.000000  ...  35.0  7300.0  4.600000   no   no   no   good   no   no   \n",
       "..          ...  ...   ...     ...       ...  ...  ...  ...    ...  ...  ...   \n",
       "395  140.000000  ...  47.0  6700.0  4.900000   no   no   no   good   no   no   \n",
       "396   75.000000  ...  54.0  7800.0  6.200000   no   no   no   good   no   no   \n",
       "397  100.000000  ...  49.0  6600.0  5.400000   no   no   no   good   no   no   \n",
       "398  114.000000  ...  51.0  7200.0  5.900000   no   no   no   good   no   no   \n",
       "399  131.000000  ...  53.0  6800.0  6.100000   no   no   no   good   no   no   \n",
       "\n",
       "    classification  \n",
       "0                0  \n",
       "1                0  \n",
       "2                0  \n",
       "3                0  \n",
       "4                0  \n",
       "..             ...  \n",
       "395              1  \n",
       "396              1  \n",
       "397              1  \n",
       "398              1  \n",
       "399              1  \n",
       "\n",
       "[400 rows x 25 columns]"
      ]
     },
     "execution_count": 88,
     "metadata": {},
     "output_type": "execute_result"
    }
   ],
   "source": [
    "#Read new csv and show\n",
    "df = pd.read_csv('./data/KD.csv')\n",
    "df.drop('Unnamed: 0', axis= 1, inplace= True) #No needed it \n",
    "df"
   ]
  },
  {
   "cell_type": "code",
   "execution_count": 89,
   "metadata": {},
   "outputs": [
    {
     "data": {
      "text/plain": [
       "0    250\n",
       "1    150\n",
       "Name: classification, dtype: int64"
      ]
     },
     "execution_count": 89,
     "metadata": {},
     "output_type": "execute_result"
    }
   ],
   "source": [
    "#Input features with if-sentence\n",
    "col_ot = 'pcv'\n",
    "col_rc = 'rc'\n",
    "col_wc = 'wc'\n",
    "col_used = [col_ot, col_rc, col_wc]\n",
    "col_dep = 'classification' #for predictions\n",
    "all_cols= (df[col_ot]<= 45.0).all() and (df[col_rc] <= 5.20000).all() and (df[col_wc] <= 7300.0).all()\n",
    "\n",
    "#n_pcv =(df[col_ot] >= 45.0).all()\n",
    "if all_cols == True:\n",
    "   col_dep == 0\n",
    "else:\n",
    "   col_dep == 1\n",
    "#col_ot = n_pcv\n",
    "\n",
    "   \n",
    "col_ot1 = [col for col in col_used] #input features\n",
    "\n",
    "df[col_dep].value_counts()"
   ]
  },
  {
   "cell_type": "code",
   "execution_count": 90,
   "metadata": {},
   "outputs": [
    {
     "name": "stdout",
     "output_type": "stream",
     "text": [
      "320 320\n"
     ]
    }
   ],
   "source": [
    "#train_test_split and x, y declarations\n",
    "x = df[col_ot1]\n",
    "y = df[col_dep]\n",
    "x_train, x_test, y_train, y_test = train_test_split(x, y, test_size = 0.2, random_state=0)\n",
    "print(len(x_train) , len(y_train))"
   ]
  },
  {
   "cell_type": "code",
   "execution_count": 116,
   "metadata": {},
   "outputs": [
    {
     "data": {
      "text/plain": [
       "80"
      ]
     },
     "execution_count": 116,
     "metadata": {},
     "output_type": "execute_result"
    }
   ],
   "source": [
    "len(y_test)"
   ]
  },
  {
   "cell_type": "code",
   "execution_count": 119,
   "metadata": {},
   "outputs": [
    {
     "data": {
      "text/plain": [
       "52"
      ]
     },
     "execution_count": 119,
     "metadata": {},
     "output_type": "execute_result"
    }
   ],
   "source": [
    "sum(y_test == 0)"
   ]
  },
  {
   "cell_type": "code",
   "execution_count": 120,
   "metadata": {},
   "outputs": [
    {
     "data": {
      "text/plain": [
       "0.65"
      ]
     },
     "execution_count": 120,
     "metadata": {},
     "output_type": "execute_result"
    }
   ],
   "source": [
    "sum(y_test == 0) / len(y_test)"
   ]
  },
  {
   "cell_type": "code",
   "execution_count": 91,
   "metadata": {},
   "outputs": [],
   "source": [
    "#Encoder\n",
    "encoder = LabelEncoder()\n",
    "\n",
    "for col in df.columns:\n",
    "    df[col] = encoder.fit_transform(df[col])\n",
    "\n",
    "df['classification'] = encoder.fit_transform(df['classification'])\n"
   ]
  },
  {
   "cell_type": "code",
   "execution_count": 92,
   "metadata": {},
   "outputs": [
    {
     "name": "stdout",
     "output_type": "stream",
     "text": [
      "Accuracy_score is: 0.9125\n"
     ]
    }
   ],
   "source": [
    "#DTC and accuracy_score\n",
    "acd = tree.DecisionTreeClassifier()\n",
    "\n",
    "model = acd.fit(x_train, y_train)\n",
    "\n",
    "y_pred = acd.predict(x_test)\n",
    "acd_acc = accuracy_score(y_test, y_pred)\n",
    "\n",
    "print (f\"Accuracy_score is:\" , acd_acc)"
   ]
  },
  {
   "cell_type": "code",
   "execution_count": 93,
   "metadata": {},
   "outputs": [
    {
     "name": "stdout",
     "output_type": "stream",
     "text": [
      "80 80 80\n"
     ]
    }
   ],
   "source": [
    "# Just for examples\n",
    "arr_pcv =[]\n",
    "arr_rc = []\n",
    "arr_wc = []\n",
    "for i in range(80):\n",
    "    arr_pcv.append(random.uniform(0.1,100.0))\n",
    "    arr_rc.append(random.uniform(0.1,10.0))\n",
    "    arr_wc.append(random.uniform(0.1,10000.0))\n",
    "    #print(arr_pcv)\n",
    "print(len(y_pred), len(arr_pcv), len(arr_wc))"
   ]
  },
  {
   "cell_type": "code",
   "execution_count": 94,
   "metadata": {},
   "outputs": [
    {
     "data": {
      "text/html": [
       "<div>\n",
       "<style scoped>\n",
       "    .dataframe tbody tr th:only-of-type {\n",
       "        vertical-align: middle;\n",
       "    }\n",
       "\n",
       "    .dataframe tbody tr th {\n",
       "        vertical-align: top;\n",
       "    }\n",
       "\n",
       "    .dataframe thead th {\n",
       "        text-align: right;\n",
       "    }\n",
       "</style>\n",
       "<table border=\"1\" class=\"dataframe\">\n",
       "  <thead>\n",
       "    <tr style=\"text-align: right;\">\n",
       "      <th></th>\n",
       "      <th>PCV generado</th>\n",
       "      <th>RC generado</th>\n",
       "      <th>WC generado</th>\n",
       "      <th>KND?</th>\n",
       "    </tr>\n",
       "  </thead>\n",
       "  <tbody>\n",
       "    <tr>\n",
       "      <th>0</th>\n",
       "      <td>65.290492</td>\n",
       "      <td>4.661557</td>\n",
       "      <td>8098.325315</td>\n",
       "      <td>0</td>\n",
       "    </tr>\n",
       "    <tr>\n",
       "      <th>1</th>\n",
       "      <td>51.745929</td>\n",
       "      <td>2.987931</td>\n",
       "      <td>9222.581156</td>\n",
       "      <td>1</td>\n",
       "    </tr>\n",
       "    <tr>\n",
       "      <th>2</th>\n",
       "      <td>90.082051</td>\n",
       "      <td>5.992249</td>\n",
       "      <td>4923.036853</td>\n",
       "      <td>0</td>\n",
       "    </tr>\n",
       "    <tr>\n",
       "      <th>3</th>\n",
       "      <td>85.520047</td>\n",
       "      <td>1.634467</td>\n",
       "      <td>7584.574489</td>\n",
       "      <td>0</td>\n",
       "    </tr>\n",
       "    <tr>\n",
       "      <th>4</th>\n",
       "      <td>36.692491</td>\n",
       "      <td>0.674993</td>\n",
       "      <td>1387.321413</td>\n",
       "      <td>0</td>\n",
       "    </tr>\n",
       "    <tr>\n",
       "      <th>...</th>\n",
       "      <td>...</td>\n",
       "      <td>...</td>\n",
       "      <td>...</td>\n",
       "      <td>...</td>\n",
       "    </tr>\n",
       "    <tr>\n",
       "      <th>75</th>\n",
       "      <td>32.387233</td>\n",
       "      <td>9.818742</td>\n",
       "      <td>5932.245540</td>\n",
       "      <td>0</td>\n",
       "    </tr>\n",
       "    <tr>\n",
       "      <th>76</th>\n",
       "      <td>15.375841</td>\n",
       "      <td>8.600255</td>\n",
       "      <td>7301.479115</td>\n",
       "      <td>0</td>\n",
       "    </tr>\n",
       "    <tr>\n",
       "      <th>77</th>\n",
       "      <td>2.294596</td>\n",
       "      <td>6.272842</td>\n",
       "      <td>1868.810955</td>\n",
       "      <td>1</td>\n",
       "    </tr>\n",
       "    <tr>\n",
       "      <th>78</th>\n",
       "      <td>16.995920</td>\n",
       "      <td>0.945010</td>\n",
       "      <td>4531.588450</td>\n",
       "      <td>1</td>\n",
       "    </tr>\n",
       "    <tr>\n",
       "      <th>79</th>\n",
       "      <td>41.065995</td>\n",
       "      <td>6.424633</td>\n",
       "      <td>5239.303416</td>\n",
       "      <td>1</td>\n",
       "    </tr>\n",
       "  </tbody>\n",
       "</table>\n",
       "<p>80 rows × 4 columns</p>\n",
       "</div>"
      ],
      "text/plain": [
       "    PCV generado  RC generado  WC generado  KND?\n",
       "0      65.290492     4.661557  8098.325315     0\n",
       "1      51.745929     2.987931  9222.581156     1\n",
       "2      90.082051     5.992249  4923.036853     0\n",
       "3      85.520047     1.634467  7584.574489     0\n",
       "4      36.692491     0.674993  1387.321413     0\n",
       "..           ...          ...          ...   ...\n",
       "75     32.387233     9.818742  5932.245540     0\n",
       "76     15.375841     8.600255  7301.479115     0\n",
       "77      2.294596     6.272842  1868.810955     1\n",
       "78     16.995920     0.945010  4531.588450     1\n",
       "79     41.065995     6.424633  5239.303416     1\n",
       "\n",
       "[80 rows x 4 columns]"
      ]
     },
     "execution_count": 94,
     "metadata": {},
     "output_type": "execute_result"
    }
   ],
   "source": [
    "pcv_pred = pd.DataFrame({'PCV generado': arr_pcv, 'RC generado': arr_rc, 'WC generado': arr_wc, 'KND?': y_pred})\n",
    "pcv_pred"
   ]
  },
  {
   "cell_type": "code",
   "execution_count": 95,
   "metadata": {},
   "outputs": [
    {
     "data": {
      "text/plain": [
       "[Text(0.395, 0.9642857142857143, 'X[0] <= 39.5\\ngini = 0.472\\nsamples = 320\\nvalue = [198, 122]'),\n",
       " Text(0.16, 0.8928571428571429, 'X[1] <= 5.65\\ngini = 0.044\\nsamples = 178\\nvalue = [174, 4]'),\n",
       " Text(0.08, 0.8214285714285714, 'X[0] <= 38.442\\ngini = 0.034\\nsamples = 176\\nvalue = [173, 3]'),\n",
       " Text(0.04, 0.75, 'gini = 0.0\\nsamples = 110\\nvalue = [110, 0]'),\n",
       " Text(0.12, 0.75, 'X[2] <= 8353.061\\ngini = 0.087\\nsamples = 66\\nvalue = [63, 3]'),\n",
       " Text(0.08, 0.6785714285714286, 'gini = 0.0\\nsamples = 5\\nvalue = [5, 0]'),\n",
       " Text(0.16, 0.6785714285714286, 'X[2] <= 8953.061\\ngini = 0.094\\nsamples = 61\\nvalue = [58, 3]'),\n",
       " Text(0.12, 0.6071428571428571, 'X[0] <= 38.942\\ngini = 0.098\\nsamples = 58\\nvalue = [55, 3]'),\n",
       " Text(0.08, 0.5357142857142857, 'gini = 0.101\\nsamples = 56\\nvalue = [53, 3]'),\n",
       " Text(0.16, 0.5357142857142857, 'gini = 0.0\\nsamples = 2\\nvalue = [2, 0]'),\n",
       " Text(0.2, 0.6071428571428571, 'gini = 0.0\\nsamples = 3\\nvalue = [3, 0]'),\n",
       " Text(0.24, 0.8214285714285714, 'X[0] <= 37.942\\ngini = 0.5\\nsamples = 2\\nvalue = [1, 1]'),\n",
       " Text(0.2, 0.75, 'gini = 0.0\\nsamples = 1\\nvalue = [1, 0]'),\n",
       " Text(0.28, 0.75, 'gini = 0.0\\nsamples = 1\\nvalue = [0, 1]'),\n",
       " Text(0.63, 0.8928571428571429, 'X[2] <= 11400.0\\ngini = 0.281\\nsamples = 142\\nvalue = [24, 118]'),\n",
       " Text(0.59, 0.8214285714285714, 'X[0] <= 44.5\\ngini = 0.257\\nsamples = 139\\nvalue = [21, 118]'),\n",
       " Text(0.36, 0.75, 'X[1] <= 5.45\\ngini = 0.398\\nsamples = 62\\nvalue = [17, 45]'),\n",
       " Text(0.32, 0.6785714285714286, 'X[2] <= 4400.0\\ngini = 0.485\\nsamples = 41\\nvalue = [17, 24]'),\n",
       " Text(0.28, 0.6071428571428571, 'gini = 0.0\\nsamples = 2\\nvalue = [2, 0]'),\n",
       " Text(0.36, 0.6071428571428571, 'X[1] <= 4.4\\ngini = 0.473\\nsamples = 39\\nvalue = [15, 24]'),\n",
       " Text(0.32, 0.5357142857142857, 'gini = 0.0\\nsamples = 2\\nvalue = [2, 0]'),\n",
       " Text(0.4, 0.5357142857142857, 'X[1] <= 4.55\\ngini = 0.456\\nsamples = 37\\nvalue = [13, 24]'),\n",
       " Text(0.36, 0.4642857142857143, 'gini = 0.0\\nsamples = 5\\nvalue = [0, 5]'),\n",
       " Text(0.44, 0.4642857142857143, 'X[1] <= 4.754\\ngini = 0.482\\nsamples = 32\\nvalue = [13, 19]'),\n",
       " Text(0.2, 0.39285714285714285, 'X[0] <= 41.5\\ngini = 0.497\\nsamples = 13\\nvalue = [7, 6]'),\n",
       " Text(0.12, 0.32142857142857145, 'X[1] <= 4.704\\ngini = 0.375\\nsamples = 8\\nvalue = [6, 2]'),\n",
       " Text(0.08, 0.25, 'X[1] <= 4.65\\ngini = 0.48\\nsamples = 5\\nvalue = [3, 2]'),\n",
       " Text(0.04, 0.17857142857142858, 'gini = 0.0\\nsamples = 2\\nvalue = [2, 0]'),\n",
       " Text(0.12, 0.17857142857142858, 'X[2] <= 8950.0\\ngini = 0.444\\nsamples = 3\\nvalue = [1, 2]'),\n",
       " Text(0.08, 0.10714285714285714, 'gini = 0.0\\nsamples = 1\\nvalue = [1, 0]'),\n",
       " Text(0.16, 0.10714285714285714, 'gini = 0.0\\nsamples = 2\\nvalue = [0, 2]'),\n",
       " Text(0.16, 0.25, 'gini = 0.0\\nsamples = 3\\nvalue = [3, 0]'),\n",
       " Text(0.28, 0.32142857142857145, 'X[1] <= 4.654\\ngini = 0.32\\nsamples = 5\\nvalue = [1, 4]'),\n",
       " Text(0.24, 0.25, 'gini = 0.0\\nsamples = 1\\nvalue = [0, 1]'),\n",
       " Text(0.32, 0.25, 'X[0] <= 42.5\\ngini = 0.375\\nsamples = 4\\nvalue = [1, 3]'),\n",
       " Text(0.28, 0.17857142857142858, 'gini = 0.0\\nsamples = 1\\nvalue = [0, 1]'),\n",
       " Text(0.36, 0.17857142857142858, 'X[0] <= 43.5\\ngini = 0.444\\nsamples = 3\\nvalue = [1, 2]'),\n",
       " Text(0.32, 0.10714285714285714, 'gini = 0.5\\nsamples = 2\\nvalue = [1, 1]'),\n",
       " Text(0.4, 0.10714285714285714, 'gini = 0.0\\nsamples = 1\\nvalue = [0, 1]'),\n",
       " Text(0.68, 0.39285714285714285, 'X[0] <= 41.5\\ngini = 0.432\\nsamples = 19\\nvalue = [6, 13]'),\n",
       " Text(0.6, 0.32142857142857145, 'X[1] <= 5.35\\ngini = 0.298\\nsamples = 11\\nvalue = [2, 9]'),\n",
       " Text(0.56, 0.25, 'X[2] <= 7050.0\\ngini = 0.18\\nsamples = 10\\nvalue = [1, 9]'),\n",
       " Text(0.52, 0.17857142857142858, 'X[1] <= 5.1\\ngini = 0.5\\nsamples = 2\\nvalue = [1, 1]'),\n",
       " Text(0.48, 0.10714285714285714, 'gini = 0.0\\nsamples = 1\\nvalue = [1, 0]'),\n",
       " Text(0.56, 0.10714285714285714, 'gini = 0.0\\nsamples = 1\\nvalue = [0, 1]'),\n",
       " Text(0.6, 0.17857142857142858, 'gini = 0.0\\nsamples = 8\\nvalue = [0, 8]'),\n",
       " Text(0.64, 0.25, 'gini = 0.0\\nsamples = 1\\nvalue = [1, 0]'),\n",
       " Text(0.76, 0.32142857142857145, 'X[1] <= 5.25\\ngini = 0.5\\nsamples = 8\\nvalue = [4, 4]'),\n",
       " Text(0.72, 0.25, 'X[1] <= 5.05\\ngini = 0.444\\nsamples = 6\\nvalue = [4, 2]'),\n",
       " Text(0.68, 0.17857142857142858, 'X[1] <= 4.85\\ngini = 0.444\\nsamples = 3\\nvalue = [1, 2]'),\n",
       " Text(0.64, 0.10714285714285714, 'X[0] <= 43.0\\ngini = 0.5\\nsamples = 2\\nvalue = [1, 1]'),\n",
       " Text(0.6, 0.03571428571428571, 'gini = 0.0\\nsamples = 1\\nvalue = [1, 0]'),\n",
       " Text(0.68, 0.03571428571428571, 'gini = 0.0\\nsamples = 1\\nvalue = [0, 1]'),\n",
       " Text(0.72, 0.10714285714285714, 'gini = 0.0\\nsamples = 1\\nvalue = [0, 1]'),\n",
       " Text(0.76, 0.17857142857142858, 'gini = 0.0\\nsamples = 3\\nvalue = [3, 0]'),\n",
       " Text(0.8, 0.25, 'gini = 0.0\\nsamples = 2\\nvalue = [0, 2]'),\n",
       " Text(0.4, 0.6785714285714286, 'gini = 0.0\\nsamples = 21\\nvalue = [0, 21]'),\n",
       " Text(0.82, 0.75, 'X[2] <= 10850.0\\ngini = 0.098\\nsamples = 77\\nvalue = [4, 73]'),\n",
       " Text(0.72, 0.6785714285714286, 'X[1] <= 4.754\\ngini = 0.078\\nsamples = 74\\nvalue = [3, 71]'),\n",
       " Text(0.64, 0.6071428571428571, 'X[1] <= 4.704\\ngini = 0.245\\nsamples = 14\\nvalue = [2, 12]'),\n",
       " Text(0.6, 0.5357142857142857, 'gini = 0.0\\nsamples = 11\\nvalue = [0, 11]'),\n",
       " Text(0.68, 0.5357142857142857, 'X[0] <= 47.0\\ngini = 0.444\\nsamples = 3\\nvalue = [2, 1]'),\n",
       " Text(0.64, 0.4642857142857143, 'gini = 0.0\\nsamples = 2\\nvalue = [2, 0]'),\n",
       " Text(0.72, 0.4642857142857143, 'gini = 0.0\\nsamples = 1\\nvalue = [0, 1]'),\n",
       " Text(0.8, 0.6071428571428571, 'X[1] <= 5.95\\ngini = 0.033\\nsamples = 60\\nvalue = [1, 59]'),\n",
       " Text(0.76, 0.5357142857142857, 'gini = 0.0\\nsamples = 46\\nvalue = [0, 46]'),\n",
       " Text(0.84, 0.5357142857142857, 'X[1] <= 6.05\\ngini = 0.133\\nsamples = 14\\nvalue = [1, 13]'),\n",
       " Text(0.8, 0.4642857142857143, 'X[2] <= 6800.0\\ngini = 0.5\\nsamples = 2\\nvalue = [1, 1]'),\n",
       " Text(0.76, 0.39285714285714285, 'gini = 0.0\\nsamples = 1\\nvalue = [0, 1]'),\n",
       " Text(0.84, 0.39285714285714285, 'gini = 0.0\\nsamples = 1\\nvalue = [1, 0]'),\n",
       " Text(0.88, 0.4642857142857143, 'gini = 0.0\\nsamples = 12\\nvalue = [0, 12]'),\n",
       " Text(0.92, 0.6785714285714286, 'X[1] <= 5.6\\ngini = 0.444\\nsamples = 3\\nvalue = [1, 2]'),\n",
       " Text(0.88, 0.6071428571428571, 'gini = 0.0\\nsamples = 2\\nvalue = [0, 2]'),\n",
       " Text(0.96, 0.6071428571428571, 'gini = 0.0\\nsamples = 1\\nvalue = [1, 0]'),\n",
       " Text(0.67, 0.8214285714285714, 'gini = 0.0\\nsamples = 3\\nvalue = [3, 0]')]"
      ]
     },
     "execution_count": 95,
     "metadata": {},
     "output_type": "execute_result"
    },
    {
     "data": {
      "image/png": "[encoded data removed]",
      "text/plain": [
       "<Figure size 432x288 with 1 Axes>"
      ]
     },
     "metadata": {
      "needs_background": "light"
     },
     "output_type": "display_data"
    }
   ],
   "source": [
    "#Visualization of the tree\n",
    "tree.plot_tree(acd)"
   ]
  },
  {
   "cell_type": "code",
   "execution_count": 96,
   "metadata": {},
   "outputs": [
    {
     "data": {
      "image/png": "[encoded data removed]",
      "text/plain": [
       "<Figure size 360x360 with 2 Axes>"
      ]
     },
     "metadata": {
      "needs_background": "light"
     },
     "output_type": "display_data"
    }
   ],
   "source": [
    "#Matrix Confusion\n",
    "cm = confusion_matrix( y_test, y_pred, labels=[True, False])\n",
    "cmn = (cm.astype('float') / cm.sum(axis=1)[:, np.newaxis])#*100\n",
    "fig, ax = plt.subplots(figsize=(5,5))\n",
    "sns.heatmap(cmn,annot=True, cmap='viridis', xticklabels=[\"Positive\", \"Negative\"], yticklabels=[True, False])\n",
    "plt.suptitle(\"Confusion Matrix\", fontsize= 20)\n",
    "plt.ylabel('Actual')\n",
    "plt.xlabel('Predicted')\n",
    "\n",
    "save_fig(\"matrix_confusion\")\n",
    "plt.show()"
   ]
  },
  {
   "cell_type": "code",
   "execution_count": 109,
   "metadata": {},
   "outputs": [
    {
     "data": {
      "text/plain": [
       "array([[24,  4],\n",
       "       [ 3, 49]], dtype=int64)"
      ]
     },
     "execution_count": 109,
     "metadata": {},
     "output_type": "execute_result"
    }
   ],
   "source": [
    "cm # Confusion matrix"
   ]
  },
  {
   "cell_type": "code",
   "execution_count": 97,
   "metadata": {},
   "outputs": [
    {
     "name": "stdout",
     "output_type": "stream",
     "text": [
      "              precision    recall  f1-score   support\n",
      "\n",
      "           0       0.92      0.94      0.93        52\n",
      "           1       0.89      0.86      0.87        28\n",
      "\n",
      "    accuracy                           0.91        80\n",
      "   macro avg       0.91      0.90      0.90        80\n",
      "weighted avg       0.91      0.91      0.91        80\n",
      "\n"
     ]
    }
   ],
   "source": [
    "#classification_report\n",
    "print(classification_report(y_test, y_pred))"
   ]
  },
  {
   "cell_type": "code",
   "execution_count": 98,
   "metadata": {},
   "outputs": [
    {
     "name": "stdout",
     "output_type": "stream",
     "text": [
      "accuracy: 0.91\n",
      "precision_score: 0.89\n",
      "recall_score: 0.86\n",
      "f1_score: 0.87\n"
     ]
    }
   ],
   "source": [
    "# Getting precision, recall, F1_score\n",
    "from sklearn.metrics import accuracy_score, precision_score, recall_score, f1_score\n",
    "\n",
    "acc = accuracy_score(y_test, y_pred)\n",
    "acc = round(acc, 2)\n",
    "print('accuracy:', acc)\n",
    "\n",
    "prc = precision_score(y_test, y_pred)\n",
    "prc = round(prc, 2)\n",
    "print('precision_score:', prc)\n",
    "\n",
    "rcll = recall_score(y_test, y_pred)\n",
    "rcll = round(rcll, 2)\n",
    "print('recall_score:', rcll)\n",
    "\n",
    "f1scr = f1_score(y_test, y_pred)\n",
    "f1scr = round(f1scr, 2)\n",
    "print('f1_score:', f1scr)"
   ]
  },
  {
   "cell_type": "code",
   "execution_count": 99,
   "metadata": {},
   "outputs": [
    {
     "data": {
      "image/png": "[encoded data removed]",
      "text/plain": [
       "<Figure size 864x576 with 1 Axes>"
      ]
     },
     "metadata": {
      "needs_background": "light"
     },
     "output_type": "display_data"
    }
   ],
   "source": [
    "# Ploting accuracy, precision_score, recall_score, f1_score\n",
    "\n",
    "# Set width of bar\n",
    "barWidth = 0.15\n",
    "fig = plt.subplots(figsize=(12, 8))\n",
    "\n",
    "# Set height of bar\n",
    "\n",
    "models = ['Decision tree', 'Random Forest']\n",
    "accuracy = [94, 100]\n",
    "precision = [90, 100]\n",
    "recall = [93, 100]\n",
    "f1_score = [91, 100]\n",
    "\n",
    "# St positions of bat on X axis\n",
    "pos1_acc = np.arange(len(accuracy))\n",
    "pos2_pre = [x + barWidth for x in pos1_acc]\n",
    "pos3_rec = [x + barWidth for x in pos2_pre]\n",
    "pos4_f1 = [x + barWidth for x in pos3_rec]\n",
    "\n",
    "# Mat the plot\n",
    "plt.bar(pos1_acc, accuracy, color='darkslategray', width=barWidth, \n",
    "    edgecolor='grey', label='Accuracy')\n",
    "plt.bar(pos2_pre, precision, color='darkolivegreen', width=barWidth,\n",
    "    edgecolor='grey', label='Precision')\n",
    "plt.bar(pos3_rec, recall, color='slategray', width=barWidth,\n",
    "    edgecolor='grey', label='Recall')\n",
    "plt.bar(pos4_f1, f1_score, color='navy', width=barWidth,\n",
    "    edgecolor='grey', label='F1 score')\n",
    "\n",
    "\n",
    "# Adding Xticks\n",
    "plt.ylabel('Porcentaje (%)', fontsize=20)\n",
    "plt.xticks([r + 1.5*barWidth for r in range(len(accuracy))], models, fontsize=20)\n",
    "plt.yticks([20, 40, 60, 80, 100], fontsize=20)\n",
    "\n",
    "plt.legend(fontsize=15, loc=\"upper center\")\n",
    "plt.grid(color=\"black\")\n",
    "save_fig(\"comparison_models\")\n",
    "\n",
    "plt.show()"
   ]
  },
  {
   "cell_type": "code",
   "execution_count": 100,
   "metadata": {},
   "outputs": [],
   "source": [
    "# Getting probabilities\n",
    "y_pred_proba = acd.predict_proba(x_test)\n",
    "y_score = y_pred_proba[:, 1]"
   ]
  },
  {
   "cell_type": "code",
   "execution_count": 101,
   "metadata": {},
   "outputs": [
    {
     "data": {
      "text/plain": [
       "27"
      ]
     },
     "execution_count": 101,
     "metadata": {},
     "output_type": "execute_result"
    }
   ],
   "source": [
    "l = list(y_score)\n",
    "l.count(1)"
   ]
  },
  {
   "cell_type": "code",
   "execution_count": 153,
   "metadata": {},
   "outputs": [],
   "source": [
    "from sklearn.metrics import precision_recall_curve\n",
    "\n",
    "precisions, recalls, thresholds = precision_recall_curve(y_test, y_score)\n",
    "threshold = 0.5"
   ]
  },
  {
   "cell_type": "code",
   "execution_count": 125,
   "metadata": {},
   "outputs": [
    {
     "data": {
      "image/png": "[encoded data removed]",
      "text/plain": [
       "<Figure size 576x288 with 1 Axes>"
      ]
     },
     "metadata": {
      "needs_background": "light"
     },
     "output_type": "display_data"
    }
   ],
   "source": [
    "# Plotting precision and recall of threshold\n",
    "plt.figure(figsize=(8, 4))\n",
    "plt.plot(thresholds, precisions[:-1], \"b--\", label=\"Precision\", linewidth=2)\n",
    "plt.plot(thresholds, recalls[:-1], \"g-\", label=\"Recall\", linewidth=2)\n",
    "plt.vlines(threshold, 0, 1.0, \"k\", \"dotted\", label=\"threshold\")\n",
    "\n",
    "# Beautifies the figure\n",
    "#idx = (thresholds >= threshold).argmax() # First index\n",
    "#plt.plot(thresholds[idx], precisions[idx], \"bo\")\n",
    "#plt.plot(thresholds[idx], recalls[idx], \"go\")\n",
    "\n",
    "plt.axis([-2, 2, 0, 1])\n",
    "plt.grid()"
   ]
  },
  {
   "cell_type": "code",
   "execution_count": 154,
   "metadata": {},
   "outputs": [
    {
     "data": {
      "image/png": "[encoded data removed]",
      "text/plain": [
       "<Figure size 432x288 with 1 Axes>"
      ]
     },
     "metadata": {
      "needs_background": "light"
     },
     "output_type": "display_data"
    }
   ],
   "source": [
    "import matplotlib.patches as patches # extra-code - for the curved arrow\n",
    "\n",
    "# Plot the curve\n",
    "plt.plot(recalls, precisions, \"b-\", linewidth=2, label=\"Decision Tree\")\n",
    "\n",
    "# Plot the dot\n",
    "\n",
    "idx = (thresholds >= threshold).argmax()\n",
    "plt.plot([recalls[idx]], [precisions[idx]], \"ko\", label=\"Point at threshold \")\n",
    "plt.plot([0.0, recalls[idx]], [precisions[idx], precisions[idx]], \"k:\")\n",
    "plt.plot([recalls[idx], recalls[idx]], [0., precisions[idx]], \"k:\")\n",
    "\n",
    "plt.gca().add_patch(patches.FancyArrowPatch(\n",
    "    (0.64, 0.6), (0.8, 0.8),\n",
    "    connectionstyle=\"arc3,rad=.2\",\n",
    "    arrowstyle=\"Simple, tail_width=1.5, head_width=8, head_length=10\",\n",
    "    color=\"#444444\"\n",
    "))\n",
    "\n",
    "plt.text(0.40, 0.6, \"threshold 0.5\", fontsize=12)\n",
    "plt.title(\"Precision/Recall curve\", fontsize=15)\n",
    "plt.xlabel(\"Recall\")\n",
    "plt.ylabel(\"Precision\")\n",
    "plt.legend()\n",
    "plt.axis([0, 1, 0, 1])\n",
    "plt.grid()\n",
    "\n",
    "save_fig(\"Precision_recall\")\n",
    "plt.show()"
   ]
  },
  {
   "cell_type": "code",
   "execution_count": 150,
   "metadata": {},
   "outputs": [
    {
     "data": {
      "image/png": "[encoded data removed]",
      "text/plain": [
       "<Figure size 432x288 with 1 Axes>"
      ]
     },
     "metadata": {
      "needs_background": "light"
     },
     "output_type": "display_data"
    }
   ],
   "source": [
    "from sklearn.metrics import roc_curve\n",
    "\n",
    "fpr, tpr, thresholds = roc_curve(y_test, y_score)\n",
    "\n",
    "idx = (thresholds <= threshold).argmax()\n",
    "\n",
    "plt.plot(fpr, tpr, linewidth=2, label=\"ROC curve\")\n",
    "plt.plot([0, 1], [0, 1], \"k:\", label=\"Random classifier's ROC Curve\")\n",
    "plt.plot([fpr[idx]], [tpr[idx]], \"ko\", label=\"Threshold 0.50\")\n",
    "\n",
    "plt.gca().add_patch(patches.FancyArrowPatch(\n",
    "    (0.3, 0.7), (0.2, 0.8),\n",
    "    connectionstyle=\"arc3,rad=.4\",\n",
    "    arrowstyle=\"Simple, tail_width=1.5, head_width=8, head_length=10\",\n",
    "    color=\"#444444\"))\n",
    "\n",
    "plt.text(0.3, 0.6, \"threshold 0.5\", fontsize=12)\n",
    "plt.title(\"AUC ROC for Decision Tree\", fontsize=15)\n",
    "plt.ylabel(\"True positive rate (Recall)\")\n",
    "plt.xlabel(\"False positive rate (Fall-out)\")\n",
    "plt.axis([0, 1, 0, 1])\n",
    "plt.grid()\n",
    "plt.legend()\n",
    "\n",
    "save_fig(\"AUC ROC\")\n",
    "plt.show()"
   ]
  },
  {
   "cell_type": "code",
   "execution_count": 106,
   "metadata": {},
   "outputs": [
    {
     "name": "stdout",
     "output_type": "stream",
     "text": [
      "roc_auc_scr: 0.8901098901098901\n"
     ]
    }
   ],
   "source": [
    "# Plotting ROC AUC\n",
    "from sklearn.metrics import roc_auc_score\n",
    "\n",
    "roc_auc_scr = roc_auc_score(y_test, y_score)\n",
    "print('roc_auc_scr:', roc_auc_scr)"
   ]
  },
  {
   "cell_type": "code",
   "execution_count": 107,
   "metadata": {},
   "outputs": [
    {
     "name": "stdout",
     "output_type": "stream",
     "text": [
      "The Mean Absolute Error is : 0.0875\n",
      "The Root Mean Squared Erros is: 0.2958039891549808\n"
     ]
    }
   ],
   "source": [
    "#MAE and RMSE\n",
    "mae = mean_absolute_error(y_test, y_pred)\n",
    "rmse = sqrt(mean_squared_error(y_test, y_pred))\n",
    "print(f\"The Mean Absolute Error is :\", mae)\n",
    "print(f\"The Root Mean Squared Erros is:\",rmse)"
   ]
  },
  {
   "cell_type": "code",
   "execution_count": 108,
   "metadata": {},
   "outputs": [
    {
     "data": {
      "text/plain": [
       "array([0, 1, 0, 0, 0, 0, 0, 0, 0, 0, 0, 0, 0, 1, 0, 0, 1, 0, 0, 0, 0, 1,\n",
       "       0, 1, 0, 1, 0, 0, 1, 1, 0, 1, 1, 0, 1, 0, 0, 0, 0, 1, 0, 1, 0, 0,\n",
       "       1, 0, 1, 1, 0, 0, 0, 0, 1, 0, 1, 1, 0, 0, 0, 0, 0, 1, 0, 0, 0, 1,\n",
       "       0, 0, 0, 1, 1, 1, 0, 0, 0, 0, 0, 1, 1, 1], dtype=int64)"
      ]
     },
     "execution_count": 108,
     "metadata": {},
     "output_type": "execute_result"
    }
   ],
   "source": [
    "y_pred"
   ]
  }
 ],
 "metadata": {
  "kernelspec": {
   "display_name": "Python 3.9.12 ('tf')",
   "language": "python",
   "name": "python3"
  },
  "language_info": {
   "codemirror_mode": {
    "name": "ipython",
    "version": 3
   },
   "file_extension": ".py",
   "mimetype": "text/x-python",
   "name": "python",
   "nbconvert_exporter": "python",
   "pygments_lexer": "ipython3",
   "version": "3.9.12"
  },
  "orig_nbformat": 4,
  "vscode": {
   "interpreter": {
    "hash": "887ac75dc2cc3f5c9b6c7d03229781a4721934165547f85f767493abca5ce374"
   }
  }
 },
 "nbformat": 4,
 "nbformat_minor": 2
}
