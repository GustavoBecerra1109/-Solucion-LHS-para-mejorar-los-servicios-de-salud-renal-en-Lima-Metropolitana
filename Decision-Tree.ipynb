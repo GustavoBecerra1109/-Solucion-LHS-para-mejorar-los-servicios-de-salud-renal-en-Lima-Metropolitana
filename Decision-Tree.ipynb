{
 "cells": [
  {
   "cell_type": "code",
   "execution_count": 2,
   "metadata": {},
   "outputs": [],
   "source": [
    "#Libraries\n",
    "import pandas as pd\n",
    "import numpy as np\n",
    "import matplotlib.pyplot as plt\n",
    "from math import sqrt\n",
    "from sklearn.model_selection import train_test_split\n",
    "from sklearn.preprocessing import LabelEncoder\n",
    "from sklearn import tree\n",
    "import random\n",
    "import seaborn as sns\n",
    "from sklearn.metrics import classification_report\n",
    "from sklearn.metrics import accuracy_score\n",
    "from sklearn.metrics import confusion_matrix\n",
    "from sklearn.metrics import mean_absolute_error\n",
    "from sklearn.metrics import mean_squared_error"
   ]
  },
  {
   "cell_type": "code",
   "execution_count": 3,
   "metadata": {},
   "outputs": [],
   "source": [
    "#Setup\n",
    "from pathlib import Path\n",
    "\n",
    "IMAGES_PATH = Path() / \"results\"\n",
    "IMAGES_PATH.mkdir(parents=True, exist_ok=True)\n",
    "\n",
    "def save_fig(fig_id, tight_layout=True, fig_extension=\"jpg\", resolution=300):\n",
    "    path = IMAGES_PATH / f\"{fig_id}.{fig_extension}\"\n",
    "    if tight_layout:\n",
    "        plt.tight_layout()\n",
    "    plt.savefig(path, format=fig_extension, dpi=resolution)"
   ]
  },
  {
   "cell_type": "code",
   "execution_count": 4,
   "metadata": {},
   "outputs": [
    {
     "data": {
      "text/html": [
       "<div>\n",
       "<style scoped>\n",
       "    .dataframe tbody tr th:only-of-type {\n",
       "        vertical-align: middle;\n",
       "    }\n",
       "\n",
       "    .dataframe tbody tr th {\n",
       "        vertical-align: top;\n",
       "    }\n",
       "\n",
       "    .dataframe thead th {\n",
       "        text-align: right;\n",
       "    }\n",
       "</style>\n",
       "<table border=\"1\" class=\"dataframe\">\n",
       "  <thead>\n",
       "    <tr style=\"text-align: right;\">\n",
       "      <th></th>\n",
       "      <th>age</th>\n",
       "      <th>bp</th>\n",
       "      <th>sg</th>\n",
       "      <th>al</th>\n",
       "      <th>su</th>\n",
       "      <th>rbc</th>\n",
       "      <th>pc</th>\n",
       "      <th>pcc</th>\n",
       "      <th>ba</th>\n",
       "      <th>bgr</th>\n",
       "      <th>...</th>\n",
       "      <th>pcv</th>\n",
       "      <th>wc</th>\n",
       "      <th>rc</th>\n",
       "      <th>htn</th>\n",
       "      <th>dm</th>\n",
       "      <th>cad</th>\n",
       "      <th>appet</th>\n",
       "      <th>pe</th>\n",
       "      <th>ane</th>\n",
       "      <th>classification</th>\n",
       "    </tr>\n",
       "  </thead>\n",
       "  <tbody>\n",
       "    <tr>\n",
       "      <th>0</th>\n",
       "      <td>48.0</td>\n",
       "      <td>80.0</td>\n",
       "      <td>1.020</td>\n",
       "      <td>1.0</td>\n",
       "      <td>0.0</td>\n",
       "      <td>normal</td>\n",
       "      <td>normal</td>\n",
       "      <td>notpresent</td>\n",
       "      <td>notpresent</td>\n",
       "      <td>121.000000</td>\n",
       "      <td>...</td>\n",
       "      <td>44.0</td>\n",
       "      <td>7800.0</td>\n",
       "      <td>5.200000</td>\n",
       "      <td>yes</td>\n",
       "      <td>yes</td>\n",
       "      <td>no</td>\n",
       "      <td>good</td>\n",
       "      <td>no</td>\n",
       "      <td>no</td>\n",
       "      <td>0</td>\n",
       "    </tr>\n",
       "    <tr>\n",
       "      <th>1</th>\n",
       "      <td>7.0</td>\n",
       "      <td>50.0</td>\n",
       "      <td>1.020</td>\n",
       "      <td>4.0</td>\n",
       "      <td>0.0</td>\n",
       "      <td>normal</td>\n",
       "      <td>normal</td>\n",
       "      <td>notpresent</td>\n",
       "      <td>notpresent</td>\n",
       "      <td>148.036517</td>\n",
       "      <td>...</td>\n",
       "      <td>38.0</td>\n",
       "      <td>6000.0</td>\n",
       "      <td>4.707435</td>\n",
       "      <td>no</td>\n",
       "      <td>no</td>\n",
       "      <td>no</td>\n",
       "      <td>good</td>\n",
       "      <td>no</td>\n",
       "      <td>no</td>\n",
       "      <td>0</td>\n",
       "    </tr>\n",
       "    <tr>\n",
       "      <th>2</th>\n",
       "      <td>62.0</td>\n",
       "      <td>80.0</td>\n",
       "      <td>1.010</td>\n",
       "      <td>2.0</td>\n",
       "      <td>3.0</td>\n",
       "      <td>normal</td>\n",
       "      <td>normal</td>\n",
       "      <td>notpresent</td>\n",
       "      <td>notpresent</td>\n",
       "      <td>423.000000</td>\n",
       "      <td>...</td>\n",
       "      <td>31.0</td>\n",
       "      <td>7500.0</td>\n",
       "      <td>4.707435</td>\n",
       "      <td>no</td>\n",
       "      <td>yes</td>\n",
       "      <td>no</td>\n",
       "      <td>poor</td>\n",
       "      <td>no</td>\n",
       "      <td>yes</td>\n",
       "      <td>0</td>\n",
       "    </tr>\n",
       "    <tr>\n",
       "      <th>3</th>\n",
       "      <td>48.0</td>\n",
       "      <td>70.0</td>\n",
       "      <td>1.005</td>\n",
       "      <td>4.0</td>\n",
       "      <td>0.0</td>\n",
       "      <td>normal</td>\n",
       "      <td>abnormal</td>\n",
       "      <td>present</td>\n",
       "      <td>notpresent</td>\n",
       "      <td>117.000000</td>\n",
       "      <td>...</td>\n",
       "      <td>32.0</td>\n",
       "      <td>6700.0</td>\n",
       "      <td>3.900000</td>\n",
       "      <td>yes</td>\n",
       "      <td>no</td>\n",
       "      <td>no</td>\n",
       "      <td>poor</td>\n",
       "      <td>yes</td>\n",
       "      <td>yes</td>\n",
       "      <td>0</td>\n",
       "    </tr>\n",
       "    <tr>\n",
       "      <th>4</th>\n",
       "      <td>51.0</td>\n",
       "      <td>80.0</td>\n",
       "      <td>1.010</td>\n",
       "      <td>2.0</td>\n",
       "      <td>0.0</td>\n",
       "      <td>normal</td>\n",
       "      <td>normal</td>\n",
       "      <td>notpresent</td>\n",
       "      <td>notpresent</td>\n",
       "      <td>106.000000</td>\n",
       "      <td>...</td>\n",
       "      <td>35.0</td>\n",
       "      <td>7300.0</td>\n",
       "      <td>4.600000</td>\n",
       "      <td>no</td>\n",
       "      <td>no</td>\n",
       "      <td>no</td>\n",
       "      <td>good</td>\n",
       "      <td>no</td>\n",
       "      <td>no</td>\n",
       "      <td>0</td>\n",
       "    </tr>\n",
       "    <tr>\n",
       "      <th>...</th>\n",
       "      <td>...</td>\n",
       "      <td>...</td>\n",
       "      <td>...</td>\n",
       "      <td>...</td>\n",
       "      <td>...</td>\n",
       "      <td>...</td>\n",
       "      <td>...</td>\n",
       "      <td>...</td>\n",
       "      <td>...</td>\n",
       "      <td>...</td>\n",
       "      <td>...</td>\n",
       "      <td>...</td>\n",
       "      <td>...</td>\n",
       "      <td>...</td>\n",
       "      <td>...</td>\n",
       "      <td>...</td>\n",
       "      <td>...</td>\n",
       "      <td>...</td>\n",
       "      <td>...</td>\n",
       "      <td>...</td>\n",
       "      <td>...</td>\n",
       "    </tr>\n",
       "    <tr>\n",
       "      <th>395</th>\n",
       "      <td>55.0</td>\n",
       "      <td>80.0</td>\n",
       "      <td>1.020</td>\n",
       "      <td>0.0</td>\n",
       "      <td>0.0</td>\n",
       "      <td>normal</td>\n",
       "      <td>normal</td>\n",
       "      <td>notpresent</td>\n",
       "      <td>notpresent</td>\n",
       "      <td>140.000000</td>\n",
       "      <td>...</td>\n",
       "      <td>47.0</td>\n",
       "      <td>6700.0</td>\n",
       "      <td>4.900000</td>\n",
       "      <td>no</td>\n",
       "      <td>no</td>\n",
       "      <td>no</td>\n",
       "      <td>good</td>\n",
       "      <td>no</td>\n",
       "      <td>no</td>\n",
       "      <td>1</td>\n",
       "    </tr>\n",
       "    <tr>\n",
       "      <th>396</th>\n",
       "      <td>42.0</td>\n",
       "      <td>70.0</td>\n",
       "      <td>1.025</td>\n",
       "      <td>0.0</td>\n",
       "      <td>0.0</td>\n",
       "      <td>normal</td>\n",
       "      <td>normal</td>\n",
       "      <td>notpresent</td>\n",
       "      <td>notpresent</td>\n",
       "      <td>75.000000</td>\n",
       "      <td>...</td>\n",
       "      <td>54.0</td>\n",
       "      <td>7800.0</td>\n",
       "      <td>6.200000</td>\n",
       "      <td>no</td>\n",
       "      <td>no</td>\n",
       "      <td>no</td>\n",
       "      <td>good</td>\n",
       "      <td>no</td>\n",
       "      <td>no</td>\n",
       "      <td>1</td>\n",
       "    </tr>\n",
       "    <tr>\n",
       "      <th>397</th>\n",
       "      <td>12.0</td>\n",
       "      <td>80.0</td>\n",
       "      <td>1.020</td>\n",
       "      <td>0.0</td>\n",
       "      <td>0.0</td>\n",
       "      <td>normal</td>\n",
       "      <td>normal</td>\n",
       "      <td>notpresent</td>\n",
       "      <td>notpresent</td>\n",
       "      <td>100.000000</td>\n",
       "      <td>...</td>\n",
       "      <td>49.0</td>\n",
       "      <td>6600.0</td>\n",
       "      <td>5.400000</td>\n",
       "      <td>no</td>\n",
       "      <td>no</td>\n",
       "      <td>no</td>\n",
       "      <td>good</td>\n",
       "      <td>no</td>\n",
       "      <td>no</td>\n",
       "      <td>1</td>\n",
       "    </tr>\n",
       "    <tr>\n",
       "      <th>398</th>\n",
       "      <td>17.0</td>\n",
       "      <td>60.0</td>\n",
       "      <td>1.025</td>\n",
       "      <td>0.0</td>\n",
       "      <td>0.0</td>\n",
       "      <td>normal</td>\n",
       "      <td>normal</td>\n",
       "      <td>notpresent</td>\n",
       "      <td>notpresent</td>\n",
       "      <td>114.000000</td>\n",
       "      <td>...</td>\n",
       "      <td>51.0</td>\n",
       "      <td>7200.0</td>\n",
       "      <td>5.900000</td>\n",
       "      <td>no</td>\n",
       "      <td>no</td>\n",
       "      <td>no</td>\n",
       "      <td>good</td>\n",
       "      <td>no</td>\n",
       "      <td>no</td>\n",
       "      <td>1</td>\n",
       "    </tr>\n",
       "    <tr>\n",
       "      <th>399</th>\n",
       "      <td>58.0</td>\n",
       "      <td>80.0</td>\n",
       "      <td>1.025</td>\n",
       "      <td>0.0</td>\n",
       "      <td>0.0</td>\n",
       "      <td>normal</td>\n",
       "      <td>normal</td>\n",
       "      <td>notpresent</td>\n",
       "      <td>notpresent</td>\n",
       "      <td>131.000000</td>\n",
       "      <td>...</td>\n",
       "      <td>53.0</td>\n",
       "      <td>6800.0</td>\n",
       "      <td>6.100000</td>\n",
       "      <td>no</td>\n",
       "      <td>no</td>\n",
       "      <td>no</td>\n",
       "      <td>good</td>\n",
       "      <td>no</td>\n",
       "      <td>no</td>\n",
       "      <td>1</td>\n",
       "    </tr>\n",
       "  </tbody>\n",
       "</table>\n",
       "<p>400 rows × 25 columns</p>\n",
       "</div>"
      ],
      "text/plain": [
       "      age    bp     sg   al   su     rbc        pc         pcc          ba  \\\n",
       "0    48.0  80.0  1.020  1.0  0.0  normal    normal  notpresent  notpresent   \n",
       "1     7.0  50.0  1.020  4.0  0.0  normal    normal  notpresent  notpresent   \n",
       "2    62.0  80.0  1.010  2.0  3.0  normal    normal  notpresent  notpresent   \n",
       "3    48.0  70.0  1.005  4.0  0.0  normal  abnormal     present  notpresent   \n",
       "4    51.0  80.0  1.010  2.0  0.0  normal    normal  notpresent  notpresent   \n",
       "..    ...   ...    ...  ...  ...     ...       ...         ...         ...   \n",
       "395  55.0  80.0  1.020  0.0  0.0  normal    normal  notpresent  notpresent   \n",
       "396  42.0  70.0  1.025  0.0  0.0  normal    normal  notpresent  notpresent   \n",
       "397  12.0  80.0  1.020  0.0  0.0  normal    normal  notpresent  notpresent   \n",
       "398  17.0  60.0  1.025  0.0  0.0  normal    normal  notpresent  notpresent   \n",
       "399  58.0  80.0  1.025  0.0  0.0  normal    normal  notpresent  notpresent   \n",
       "\n",
       "            bgr  ...   pcv      wc        rc  htn   dm  cad  appet   pe  ane  \\\n",
       "0    121.000000  ...  44.0  7800.0  5.200000  yes  yes   no   good   no   no   \n",
       "1    148.036517  ...  38.0  6000.0  4.707435   no   no   no   good   no   no   \n",
       "2    423.000000  ...  31.0  7500.0  4.707435   no  yes   no   poor   no  yes   \n",
       "3    117.000000  ...  32.0  6700.0  3.900000  yes   no   no   poor  yes  yes   \n",
       "4    106.000000  ...  35.0  7300.0  4.600000   no   no   no   good   no   no   \n",
       "..          ...  ...   ...     ...       ...  ...  ...  ...    ...  ...  ...   \n",
       "395  140.000000  ...  47.0  6700.0  4.900000   no   no   no   good   no   no   \n",
       "396   75.000000  ...  54.0  7800.0  6.200000   no   no   no   good   no   no   \n",
       "397  100.000000  ...  49.0  6600.0  5.400000   no   no   no   good   no   no   \n",
       "398  114.000000  ...  51.0  7200.0  5.900000   no   no   no   good   no   no   \n",
       "399  131.000000  ...  53.0  6800.0  6.100000   no   no   no   good   no   no   \n",
       "\n",
       "    classification  \n",
       "0                0  \n",
       "1                0  \n",
       "2                0  \n",
       "3                0  \n",
       "4                0  \n",
       "..             ...  \n",
       "395              1  \n",
       "396              1  \n",
       "397              1  \n",
       "398              1  \n",
       "399              1  \n",
       "\n",
       "[400 rows x 25 columns]"
      ]
     },
     "execution_count": 4,
     "metadata": {},
     "output_type": "execute_result"
    }
   ],
   "source": [
    "#Read new csv and show\n",
    "df = pd.read_csv('./data/KD.csv')\n",
    "df.drop('Unnamed: 0', axis= 1, inplace= True) #No needed it \n",
    "df"
   ]
  },
  {
   "cell_type": "code",
   "execution_count": 5,
   "metadata": {},
   "outputs": [
    {
     "data": {
      "text/plain": [
       "0    250\n",
       "1    150\n",
       "Name: classification, dtype: int64"
      ]
     },
     "execution_count": 5,
     "metadata": {},
     "output_type": "execute_result"
    }
   ],
   "source": [
    "#Input features with if-sentence\n",
    "col_ot = 'pcv'\n",
    "col_rc = 'rc'\n",
    "col_wc = 'wc'\n",
    "col_used = [col_ot, col_rc, col_wc]\n",
    "col_dep = 'classification' #for predictions\n",
    "all_cols= (df[col_ot]<= 38.8).all() and (df[col_rc] <= 4.7).all() and (df[col_wc] <= 8406.1).all()\n",
    "\n",
    "#n_pcv =(df[col_ot] >= 45.0).all()\n",
    "if all_cols == True:\n",
    "   col_dep == 0\n",
    "else:\n",
    "   col_dep == 1\n",
    "#col_ot = n_pcv\n",
    "\n",
    "   \n",
    "col_ot1 = [col for col in col_used] #input features\n",
    "\n",
    "df[col_dep].value_counts()"
   ]
  },
  {
   "cell_type": "code",
   "execution_count": 6,
   "metadata": {},
   "outputs": [
    {
     "name": "stdout",
     "output_type": "stream",
     "text": [
      "320 320\n"
     ]
    }
   ],
   "source": [
    "#train_test_split and x, y declarations\n",
    "x = df[col_ot1]\n",
    "y = df[col_dep]\n",
    "x_train, x_test, y_train, y_test = train_test_split(x, y, test_size = 0.2, random_state=0)\n",
    "print(len(x_train) , len(y_train))"
   ]
  },
  {
   "cell_type": "code",
   "execution_count": 7,
   "metadata": {},
   "outputs": [
    {
     "data": {
      "text/plain": [
       "80"
      ]
     },
     "execution_count": 7,
     "metadata": {},
     "output_type": "execute_result"
    }
   ],
   "source": [
    "len(y_test)"
   ]
  },
  {
   "cell_type": "code",
   "execution_count": 8,
   "metadata": {},
   "outputs": [
    {
     "data": {
      "text/plain": [
       "52"
      ]
     },
     "execution_count": 8,
     "metadata": {},
     "output_type": "execute_result"
    }
   ],
   "source": [
    "sum(y_test == 0)"
   ]
  },
  {
   "cell_type": "code",
   "execution_count": 9,
   "metadata": {},
   "outputs": [
    {
     "data": {
      "text/plain": [
       "0.65"
      ]
     },
     "execution_count": 9,
     "metadata": {},
     "output_type": "execute_result"
    }
   ],
   "source": [
    "sum(y_test == 0) / len(y_test)"
   ]
  },
  {
   "cell_type": "code",
   "execution_count": 10,
   "metadata": {},
   "outputs": [],
   "source": [
    "#Encoder\n",
    "encoder = LabelEncoder()\n",
    "\n",
    "for col in df.columns:\n",
    "    df[col] = encoder.fit_transform(df[col])\n",
    "\n",
    "df['classification'] = encoder.fit_transform(df['classification'])\n"
   ]
  },
  {
   "cell_type": "code",
   "execution_count": 11,
   "metadata": {},
   "outputs": [
    {
     "name": "stdout",
     "output_type": "stream",
     "text": [
      "Accuracy_score is: 0.9125\n"
     ]
    }
   ],
   "source": [
    "#DTC and accuracy_score\n",
    "acd = tree.DecisionTreeClassifier()\n",
    "\n",
    "model = acd.fit(x_train, y_train)\n",
    "\n",
    "y_pred = acd.predict(x_test)\n",
    "acd_acc = accuracy_score(y_test, y_pred)\n",
    "\n",
    "print (f\"Accuracy_score is:\" , acd_acc)"
   ]
  },
  {
   "cell_type": "code",
   "execution_count": 12,
   "metadata": {},
   "outputs": [
    {
     "name": "stdout",
     "output_type": "stream",
     "text": [
      "80 80 80\n"
     ]
    }
   ],
   "source": [
    "# Just for examples\n",
    "arr_pcv =[]\n",
    "arr_rc = []\n",
    "arr_wc = []\n",
    "for i in range(80):\n",
    "    arr_pcv.append(random.uniform(0.1,100.0))\n",
    "    arr_rc.append(random.uniform(0.1,10.0))\n",
    "    arr_wc.append(random.uniform(0.1,10000.0))\n",
    "    #print(arr_pcv)\n",
    "print(len(y_pred), len(arr_pcv), len(arr_wc))"
   ]
  },
  {
   "cell_type": "code",
   "execution_count": 13,
   "metadata": {},
   "outputs": [
    {
     "data": {
      "text/html": [
       "<div>\n",
       "<style scoped>\n",
       "    .dataframe tbody tr th:only-of-type {\n",
       "        vertical-align: middle;\n",
       "    }\n",
       "\n",
       "    .dataframe tbody tr th {\n",
       "        vertical-align: top;\n",
       "    }\n",
       "\n",
       "    .dataframe thead th {\n",
       "        text-align: right;\n",
       "    }\n",
       "</style>\n",
       "<table border=\"1\" class=\"dataframe\">\n",
       "  <thead>\n",
       "    <tr style=\"text-align: right;\">\n",
       "      <th></th>\n",
       "      <th>PCV generado</th>\n",
       "      <th>RC generado</th>\n",
       "      <th>WC generado</th>\n",
       "      <th>KND?</th>\n",
       "    </tr>\n",
       "  </thead>\n",
       "  <tbody>\n",
       "    <tr>\n",
       "      <th>0</th>\n",
       "      <td>62.517445</td>\n",
       "      <td>6.298296</td>\n",
       "      <td>5103.290446</td>\n",
       "      <td>0</td>\n",
       "    </tr>\n",
       "    <tr>\n",
       "      <th>1</th>\n",
       "      <td>79.770179</td>\n",
       "      <td>5.565178</td>\n",
       "      <td>3129.419715</td>\n",
       "      <td>1</td>\n",
       "    </tr>\n",
       "    <tr>\n",
       "      <th>2</th>\n",
       "      <td>36.432051</td>\n",
       "      <td>0.372849</td>\n",
       "      <td>662.234202</td>\n",
       "      <td>0</td>\n",
       "    </tr>\n",
       "    <tr>\n",
       "      <th>3</th>\n",
       "      <td>77.418578</td>\n",
       "      <td>3.500812</td>\n",
       "      <td>152.575269</td>\n",
       "      <td>0</td>\n",
       "    </tr>\n",
       "    <tr>\n",
       "      <th>4</th>\n",
       "      <td>10.246771</td>\n",
       "      <td>3.092926</td>\n",
       "      <td>5182.813478</td>\n",
       "      <td>0</td>\n",
       "    </tr>\n",
       "    <tr>\n",
       "      <th>...</th>\n",
       "      <td>...</td>\n",
       "      <td>...</td>\n",
       "      <td>...</td>\n",
       "      <td>...</td>\n",
       "    </tr>\n",
       "    <tr>\n",
       "      <th>75</th>\n",
       "      <td>19.933726</td>\n",
       "      <td>9.575235</td>\n",
       "      <td>5445.063964</td>\n",
       "      <td>0</td>\n",
       "    </tr>\n",
       "    <tr>\n",
       "      <th>76</th>\n",
       "      <td>55.536532</td>\n",
       "      <td>1.690624</td>\n",
       "      <td>1676.923538</td>\n",
       "      <td>0</td>\n",
       "    </tr>\n",
       "    <tr>\n",
       "      <th>77</th>\n",
       "      <td>4.801863</td>\n",
       "      <td>4.321597</td>\n",
       "      <td>6210.891735</td>\n",
       "      <td>1</td>\n",
       "    </tr>\n",
       "    <tr>\n",
       "      <th>78</th>\n",
       "      <td>16.735292</td>\n",
       "      <td>1.904699</td>\n",
       "      <td>7720.798913</td>\n",
       "      <td>1</td>\n",
       "    </tr>\n",
       "    <tr>\n",
       "      <th>79</th>\n",
       "      <td>25.263276</td>\n",
       "      <td>1.069117</td>\n",
       "      <td>7236.169592</td>\n",
       "      <td>1</td>\n",
       "    </tr>\n",
       "  </tbody>\n",
       "</table>\n",
       "<p>80 rows × 4 columns</p>\n",
       "</div>"
      ],
      "text/plain": [
       "    PCV generado  RC generado  WC generado  KND?\n",
       "0      62.517445     6.298296  5103.290446     0\n",
       "1      79.770179     5.565178  3129.419715     1\n",
       "2      36.432051     0.372849   662.234202     0\n",
       "3      77.418578     3.500812   152.575269     0\n",
       "4      10.246771     3.092926  5182.813478     0\n",
       "..           ...          ...          ...   ...\n",
       "75     19.933726     9.575235  5445.063964     0\n",
       "76     55.536532     1.690624  1676.923538     0\n",
       "77      4.801863     4.321597  6210.891735     1\n",
       "78     16.735292     1.904699  7720.798913     1\n",
       "79     25.263276     1.069117  7236.169592     1\n",
       "\n",
       "[80 rows x 4 columns]"
      ]
     },
     "execution_count": 13,
     "metadata": {},
     "output_type": "execute_result"
    }
   ],
   "source": [
    "pcv_pred = pd.DataFrame({'PCV generado': arr_pcv, 'RC generado': arr_rc, 'WC generado': arr_wc, 'KND?': y_pred})\n",
    "pcv_pred"
   ]
  },
  {
   "cell_type": "code",
   "execution_count": 14,
   "metadata": {},
   "outputs": [
    {
     "data": {
      "text/plain": [
       "[Text(0.4182692307692308, 0.9642857142857143, 'X[0] <= 39.5\\ngini = 0.472\\nsamples = 320\\nvalue = [198, 122]'),\n",
       " Text(0.19230769230769232, 0.8928571428571429, 'X[1] <= 5.65\\ngini = 0.044\\nsamples = 178\\nvalue = [174, 4]'),\n",
       " Text(0.11538461538461539, 0.8214285714285714, 'X[0] <= 38.442\\ngini = 0.034\\nsamples = 176\\nvalue = [173, 3]'),\n",
       " Text(0.07692307692307693, 0.75, 'gini = 0.0\\nsamples = 110\\nvalue = [110, 0]'),\n",
       " Text(0.15384615384615385, 0.75, 'X[0] <= 38.942\\ngini = 0.087\\nsamples = 66\\nvalue = [63, 3]'),\n",
       " Text(0.11538461538461539, 0.6785714285714286, 'X[2] <= 8953.061\\ngini = 0.094\\nsamples = 61\\nvalue = [58, 3]'),\n",
       " Text(0.07692307692307693, 0.6071428571428571, 'X[2] <= 7653.061\\ngini = 0.098\\nsamples = 58\\nvalue = [55, 3]'),\n",
       " Text(0.038461538461538464, 0.5357142857142857, 'gini = 0.0\\nsamples = 2\\nvalue = [2, 0]'),\n",
       " Text(0.11538461538461539, 0.5357142857142857, 'gini = 0.101\\nsamples = 56\\nvalue = [53, 3]'),\n",
       " Text(0.15384615384615385, 0.6071428571428571, 'gini = 0.0\\nsamples = 3\\nvalue = [3, 0]'),\n",
       " Text(0.19230769230769232, 0.6785714285714286, 'gini = 0.0\\nsamples = 5\\nvalue = [5, 0]'),\n",
       " Text(0.2692307692307692, 0.8214285714285714, 'X[0] <= 37.942\\ngini = 0.5\\nsamples = 2\\nvalue = [1, 1]'),\n",
       " Text(0.23076923076923078, 0.75, 'gini = 0.0\\nsamples = 1\\nvalue = [1, 0]'),\n",
       " Text(0.3076923076923077, 0.75, 'gini = 0.0\\nsamples = 1\\nvalue = [0, 1]'),\n",
       " Text(0.6442307692307693, 0.8928571428571429, 'X[2] <= 11400.0\\ngini = 0.281\\nsamples = 142\\nvalue = [24, 118]'),\n",
       " Text(0.6057692307692307, 0.8214285714285714, 'X[0] <= 44.5\\ngini = 0.257\\nsamples = 139\\nvalue = [21, 118]'),\n",
       " Text(0.38461538461538464, 0.75, 'X[1] <= 5.45\\ngini = 0.398\\nsamples = 62\\nvalue = [17, 45]'),\n",
       " Text(0.34615384615384615, 0.6785714285714286, 'X[1] <= 4.4\\ngini = 0.485\\nsamples = 41\\nvalue = [17, 24]'),\n",
       " Text(0.3076923076923077, 0.6071428571428571, 'gini = 0.0\\nsamples = 2\\nvalue = [2, 0]'),\n",
       " Text(0.38461538461538464, 0.6071428571428571, 'X[1] <= 4.55\\ngini = 0.473\\nsamples = 39\\nvalue = [15, 24]'),\n",
       " Text(0.34615384615384615, 0.5357142857142857, 'gini = 0.0\\nsamples = 5\\nvalue = [0, 5]'),\n",
       " Text(0.4230769230769231, 0.5357142857142857, 'X[2] <= 4400.0\\ngini = 0.493\\nsamples = 34\\nvalue = [15, 19]'),\n",
       " Text(0.38461538461538464, 0.4642857142857143, 'gini = 0.0\\nsamples = 2\\nvalue = [2, 0]'),\n",
       " Text(0.46153846153846156, 0.4642857142857143, 'X[1] <= 4.754\\ngini = 0.482\\nsamples = 32\\nvalue = [13, 19]'),\n",
       " Text(0.23076923076923078, 0.39285714285714285, 'X[0] <= 41.5\\ngini = 0.497\\nsamples = 13\\nvalue = [7, 6]'),\n",
       " Text(0.15384615384615385, 0.32142857142857145, 'X[2] <= 8950.0\\ngini = 0.375\\nsamples = 8\\nvalue = [6, 2]'),\n",
       " Text(0.11538461538461539, 0.25, 'gini = 0.0\\nsamples = 3\\nvalue = [3, 0]'),\n",
       " Text(0.19230769230769232, 0.25, 'X[1] <= 4.65\\ngini = 0.48\\nsamples = 5\\nvalue = [3, 2]'),\n",
       " Text(0.15384615384615385, 0.17857142857142858, 'gini = 0.0\\nsamples = 2\\nvalue = [2, 0]'),\n",
       " Text(0.23076923076923078, 0.17857142857142858, 'X[1] <= 4.704\\ngini = 0.444\\nsamples = 3\\nvalue = [1, 2]'),\n",
       " Text(0.19230769230769232, 0.10714285714285714, 'gini = 0.0\\nsamples = 2\\nvalue = [0, 2]'),\n",
       " Text(0.2692307692307692, 0.10714285714285714, 'gini = 0.0\\nsamples = 1\\nvalue = [1, 0]'),\n",
       " Text(0.3076923076923077, 0.32142857142857145, 'X[0] <= 42.5\\ngini = 0.32\\nsamples = 5\\nvalue = [1, 4]'),\n",
       " Text(0.2692307692307692, 0.25, 'gini = 0.0\\nsamples = 1\\nvalue = [0, 1]'),\n",
       " Text(0.34615384615384615, 0.25, 'X[2] <= 6553.061\\ngini = 0.375\\nsamples = 4\\nvalue = [1, 3]'),\n",
       " Text(0.3076923076923077, 0.17857142857142858, 'gini = 0.0\\nsamples = 1\\nvalue = [0, 1]'),\n",
       " Text(0.38461538461538464, 0.17857142857142858, 'X[0] <= 43.5\\ngini = 0.444\\nsamples = 3\\nvalue = [1, 2]'),\n",
       " Text(0.34615384615384615, 0.10714285714285714, 'gini = 0.5\\nsamples = 2\\nvalue = [1, 1]'),\n",
       " Text(0.4230769230769231, 0.10714285714285714, 'gini = 0.0\\nsamples = 1\\nvalue = [0, 1]'),\n",
       " Text(0.6923076923076923, 0.39285714285714285, 'X[0] <= 41.5\\ngini = 0.432\\nsamples = 19\\nvalue = [6, 13]'),\n",
       " Text(0.6153846153846154, 0.32142857142857145, 'X[1] <= 5.35\\ngini = 0.298\\nsamples = 11\\nvalue = [2, 9]'),\n",
       " Text(0.5769230769230769, 0.25, 'X[2] <= 7050.0\\ngini = 0.18\\nsamples = 10\\nvalue = [1, 9]'),\n",
       " Text(0.5384615384615384, 0.17857142857142858, 'X[1] <= 5.1\\ngini = 0.5\\nsamples = 2\\nvalue = [1, 1]'),\n",
       " Text(0.5, 0.10714285714285714, 'gini = 0.0\\nsamples = 1\\nvalue = [1, 0]'),\n",
       " Text(0.5769230769230769, 0.10714285714285714, 'gini = 0.0\\nsamples = 1\\nvalue = [0, 1]'),\n",
       " Text(0.6153846153846154, 0.17857142857142858, 'gini = 0.0\\nsamples = 8\\nvalue = [0, 8]'),\n",
       " Text(0.6538461538461539, 0.25, 'gini = 0.0\\nsamples = 1\\nvalue = [1, 0]'),\n",
       " Text(0.7692307692307693, 0.32142857142857145, 'X[1] <= 5.25\\ngini = 0.5\\nsamples = 8\\nvalue = [4, 4]'),\n",
       " Text(0.7307692307692307, 0.25, 'X[1] <= 5.05\\ngini = 0.444\\nsamples = 6\\nvalue = [4, 2]'),\n",
       " Text(0.6923076923076923, 0.17857142857142858, 'X[1] <= 4.85\\ngini = 0.444\\nsamples = 3\\nvalue = [1, 2]'),\n",
       " Text(0.6538461538461539, 0.10714285714285714, 'X[0] <= 43.0\\ngini = 0.5\\nsamples = 2\\nvalue = [1, 1]'),\n",
       " Text(0.6153846153846154, 0.03571428571428571, 'gini = 0.0\\nsamples = 1\\nvalue = [1, 0]'),\n",
       " Text(0.6923076923076923, 0.03571428571428571, 'gini = 0.0\\nsamples = 1\\nvalue = [0, 1]'),\n",
       " Text(0.7307692307692307, 0.10714285714285714, 'gini = 0.0\\nsamples = 1\\nvalue = [0, 1]'),\n",
       " Text(0.7692307692307693, 0.17857142857142858, 'gini = 0.0\\nsamples = 3\\nvalue = [3, 0]'),\n",
       " Text(0.8076923076923077, 0.25, 'gini = 0.0\\nsamples = 2\\nvalue = [0, 2]'),\n",
       " Text(0.4230769230769231, 0.6785714285714286, 'gini = 0.0\\nsamples = 21\\nvalue = [0, 21]'),\n",
       " Text(0.8269230769230769, 0.75, 'X[2] <= 10850.0\\ngini = 0.098\\nsamples = 77\\nvalue = [4, 73]'),\n",
       " Text(0.7307692307692307, 0.6785714285714286, 'X[1] <= 4.754\\ngini = 0.078\\nsamples = 74\\nvalue = [3, 71]'),\n",
       " Text(0.6538461538461539, 0.6071428571428571, 'X[1] <= 4.704\\ngini = 0.245\\nsamples = 14\\nvalue = [2, 12]'),\n",
       " Text(0.6153846153846154, 0.5357142857142857, 'gini = 0.0\\nsamples = 11\\nvalue = [0, 11]'),\n",
       " Text(0.6923076923076923, 0.5357142857142857, 'X[0] <= 47.0\\ngini = 0.444\\nsamples = 3\\nvalue = [2, 1]'),\n",
       " Text(0.6538461538461539, 0.4642857142857143, 'gini = 0.0\\nsamples = 2\\nvalue = [2, 0]'),\n",
       " Text(0.7307692307692307, 0.4642857142857143, 'gini = 0.0\\nsamples = 1\\nvalue = [0, 1]'),\n",
       " Text(0.8076923076923077, 0.6071428571428571, 'X[1] <= 5.95\\ngini = 0.033\\nsamples = 60\\nvalue = [1, 59]'),\n",
       " Text(0.7692307692307693, 0.5357142857142857, 'gini = 0.0\\nsamples = 46\\nvalue = [0, 46]'),\n",
       " Text(0.8461538461538461, 0.5357142857142857, 'X[1] <= 6.05\\ngini = 0.133\\nsamples = 14\\nvalue = [1, 13]'),\n",
       " Text(0.8076923076923077, 0.4642857142857143, 'X[2] <= 6800.0\\ngini = 0.5\\nsamples = 2\\nvalue = [1, 1]'),\n",
       " Text(0.7692307692307693, 0.39285714285714285, 'gini = 0.0\\nsamples = 1\\nvalue = [0, 1]'),\n",
       " Text(0.8461538461538461, 0.39285714285714285, 'gini = 0.0\\nsamples = 1\\nvalue = [1, 0]'),\n",
       " Text(0.8846153846153846, 0.4642857142857143, 'gini = 0.0\\nsamples = 12\\nvalue = [0, 12]'),\n",
       " Text(0.9230769230769231, 0.6785714285714286, 'X[0] <= 48.5\\ngini = 0.444\\nsamples = 3\\nvalue = [1, 2]'),\n",
       " Text(0.8846153846153846, 0.6071428571428571, 'gini = 0.0\\nsamples = 1\\nvalue = [1, 0]'),\n",
       " Text(0.9615384615384616, 0.6071428571428571, 'gini = 0.0\\nsamples = 2\\nvalue = [0, 2]'),\n",
       " Text(0.6826923076923077, 0.8214285714285714, 'gini = 0.0\\nsamples = 3\\nvalue = [3, 0]')]"
      ]
     },
     "execution_count": 14,
     "metadata": {},
     "output_type": "execute_result"
    },
    {
     "data": {
      "image/png": "[encoded data removed]",
      "text/plain": [
       "<Figure size 432x288 with 1 Axes>"
      ]
     },
     "metadata": {
      "needs_background": "light"
     },
     "output_type": "display_data"
    }
   ],
   "source": [
    "#Visualization of the tree\n",
    "tree.plot_tree(acd)"
   ]
  },
  {
   "cell_type": "code",
   "execution_count": 15,
   "metadata": {},
   "outputs": [
    {
     "data": {
      "image/png": "[encoded data removed]",
      "text/plain": [
       "<Figure size 360x360 with 2 Axes>"
      ]
     },
     "metadata": {
      "needs_background": "light"
     },
     "output_type": "display_data"
    }
   ],
   "source": [
    "#Matrix Confusion\n",
    "cm = confusion_matrix( y_test, y_pred, labels=[True, False])\n",
    "cmn = (cm.astype('float') / cm.sum(axis=1)[:, np.newaxis])#*100\n",
    "fig, ax = plt.subplots(figsize=(5,5))\n",
    "sns.heatmap(cmn,annot=True, cmap='viridis', xticklabels=[\"Positive\", \"Negative\"], yticklabels=[True, False])\n",
    "plt.suptitle(\"Confusion Matrix\", fontsize= 20)\n",
    "plt.ylabel('Actual')\n",
    "plt.xlabel('Predicted')\n",
    "\n",
    "save_fig(\"matrix_confusion\")\n",
    "plt.show()"
   ]
  },
  {
   "cell_type": "code",
   "execution_count": 16,
   "metadata": {},
   "outputs": [
    {
     "data": {
      "text/plain": [
       "array([[24,  4],\n",
       "       [ 3, 49]], dtype=int64)"
      ]
     },
     "execution_count": 16,
     "metadata": {},
     "output_type": "execute_result"
    }
   ],
   "source": [
    "cm # Confusion matrix"
   ]
  },
  {
   "cell_type": "code",
   "execution_count": 17,
   "metadata": {},
   "outputs": [
    {
     "name": "stdout",
     "output_type": "stream",
     "text": [
      "              precision    recall  f1-score   support\n",
      "\n",
      "           0       0.92      0.94      0.93        52\n",
      "           1       0.89      0.86      0.87        28\n",
      "\n",
      "    accuracy                           0.91        80\n",
      "   macro avg       0.91      0.90      0.90        80\n",
      "weighted avg       0.91      0.91      0.91        80\n",
      "\n"
     ]
    }
   ],
   "source": [
    "#classification_report\n",
    "print(classification_report(y_test, y_pred))"
   ]
  },
  {
   "cell_type": "code",
   "execution_count": 18,
   "metadata": {},
   "outputs": [
    {
     "name": "stdout",
     "output_type": "stream",
     "text": [
      "accuracy: 0.91\n",
      "precision_score: 0.89\n",
      "recall_score: 0.86\n",
      "f1_score: 0.87\n"
     ]
    }
   ],
   "source": [
    "# Getting precision, recall, F1_score\n",
    "from sklearn.metrics import accuracy_score, precision_score, recall_score, f1_score\n",
    "\n",
    "acc = accuracy_score(y_test, y_pred)\n",
    "acc = round(acc, 2)\n",
    "print('accuracy:', acc)\n",
    "\n",
    "prc = precision_score(y_test, y_pred)\n",
    "prc = round(prc, 2)\n",
    "print('precision_score:', prc)\n",
    "\n",
    "rcll = recall_score(y_test, y_pred)\n",
    "rcll = round(rcll, 2)\n",
    "print('recall_score:', rcll)\n",
    "\n",
    "f1scr = f1_score(y_test, y_pred)\n",
    "f1scr = round(f1scr, 2)\n",
    "print('f1_score:', f1scr)"
   ]
  },
  {
   "cell_type": "code",
   "execution_count": 19,
   "metadata": {},
   "outputs": [
    {
     "data": {
      "image/png": "[encoded data removed]",
      "text/plain": [
       "<Figure size 864x576 with 1 Axes>"
      ]
     },
     "metadata": {
      "needs_background": "light"
     },
     "output_type": "display_data"
    }
   ],
   "source": [
    "# Ploting accuracy, precision_score, recall_score, f1_score\n",
    "\n",
    "# Set width of bar\n",
    "barWidth = 0.15\n",
    "fig = plt.subplots(figsize=(12, 8))\n",
    "\n",
    "# Set height of bar\n",
    "\n",
    "models = ['Decision tree', 'Random Forest']\n",
    "accuracy = [94, 100]\n",
    "precision = [90, 100]\n",
    "recall = [93, 100]\n",
    "f1_score = [91, 100]\n",
    "\n",
    "# St positions of bat on X axis\n",
    "pos1_acc = np.arange(len(accuracy))\n",
    "pos2_pre = [x + barWidth for x in pos1_acc]\n",
    "pos3_rec = [x + barWidth for x in pos2_pre]\n",
    "pos4_f1 = [x + barWidth for x in pos3_rec]\n",
    "\n",
    "# Mat the plot\n",
    "plt.bar(pos1_acc, accuracy, color='darkslategray', width=barWidth, \n",
    "    edgecolor='grey', label='Accuracy')\n",
    "plt.bar(pos2_pre, precision, color='darkolivegreen', width=barWidth,\n",
    "    edgecolor='grey', label='Precision')\n",
    "plt.bar(pos3_rec, recall, color='slategray', width=barWidth,\n",
    "    edgecolor='grey', label='Recall')\n",
    "plt.bar(pos4_f1, f1_score, color='navy', width=barWidth,\n",
    "    edgecolor='grey', label='F1 score')\n",
    "\n",
    "\n",
    "# Adding Xticks\n",
    "plt.ylabel('Porcentaje (%)', fontsize=20)\n",
    "plt.xticks([r + 1.5*barWidth for r in range(len(accuracy))], models, fontsize=20)\n",
    "plt.yticks([20, 40, 60, 80, 100], fontsize=20)\n",
    "\n",
    "plt.legend(fontsize=15, loc=\"upper center\")\n",
    "plt.grid(color=\"black\")\n",
    "save_fig(\"comparison_models\")\n",
    "\n",
    "plt.show()"
   ]
  },
  {
   "cell_type": "code",
   "execution_count": 20,
   "metadata": {},
   "outputs": [],
   "source": [
    "# Getting probabilities\n",
    "y_pred_proba = acd.predict_proba(x_test)\n",
    "y_score = y_pred_proba[:, 1]"
   ]
  },
  {
   "cell_type": "code",
   "execution_count": 21,
   "metadata": {},
   "outputs": [
    {
     "data": {
      "text/plain": [
       "27"
      ]
     },
     "execution_count": 21,
     "metadata": {},
     "output_type": "execute_result"
    }
   ],
   "source": [
    "l = list(y_score)\n",
    "l.count(1)"
   ]
  },
  {
   "cell_type": "code",
   "execution_count": 22,
   "metadata": {},
   "outputs": [],
   "source": [
    "from sklearn.metrics import precision_recall_curve\n",
    "\n",
    "precisions, recalls, thresholds = precision_recall_curve(y_test, y_score)\n",
    "threshold = 0.5"
   ]
  },
  {
   "cell_type": "code",
   "execution_count": 23,
   "metadata": {},
   "outputs": [
    {
     "data": {
      "image/png": "[encoded data removed]",
      "text/plain": [
       "<Figure size 576x288 with 1 Axes>"
      ]
     },
     "metadata": {
      "needs_background": "light"
     },
     "output_type": "display_data"
    }
   ],
   "source": [
    "# Plotting precision and recall of threshold\n",
    "plt.figure(figsize=(8, 4))\n",
    "plt.plot(thresholds, precisions[:-1], \"b--\", label=\"Precision\", linewidth=2)\n",
    "plt.plot(thresholds, recalls[:-1], \"g-\", label=\"Recall\", linewidth=2)\n",
    "plt.vlines(threshold, 0, 1.0, \"k\", \"dotted\", label=\"threshold\")\n",
    "\n",
    "# Beautifies the figure\n",
    "#idx = (thresholds >= threshold).argmax() # First index\n",
    "#plt.plot(thresholds[idx], precisions[idx], \"bo\")\n",
    "#plt.plot(thresholds[idx], recalls[idx], \"go\")\n",
    "\n",
    "plt.axis([-2, 2, 0, 1])\n",
    "plt.grid()"
   ]
  },
  {
   "cell_type": "code",
   "execution_count": 24,
   "metadata": {},
   "outputs": [
    {
     "data": {
      "image/png": "[encoded data removed]",
      "text/plain": [
       "<Figure size 432x288 with 1 Axes>"
      ]
     },
     "metadata": {
      "needs_background": "light"
     },
     "output_type": "display_data"
    }
   ],
   "source": [
    "import matplotlib.patches as patches # extra-code - for the curved arrow\n",
    "\n",
    "# Plot the curve\n",
    "plt.plot(recalls, precisions, \"b-\", linewidth=2, label=\"Decision Tree\")\n",
    "\n",
    "# Plot the dot\n",
    "\n",
    "idx = (thresholds >= threshold).argmax()\n",
    "plt.plot([recalls[idx]], [precisions[idx]], \"ko\", label=\"Point at threshold \")\n",
    "plt.plot([0.0, recalls[idx]], [precisions[idx], precisions[idx]], \"k:\")\n",
    "plt.plot([recalls[idx], recalls[idx]], [0., precisions[idx]], \"k:\")\n",
    "\n",
    "plt.gca().add_patch(patches.FancyArrowPatch(\n",
    "    (0.64, 0.6), (0.8, 0.8),\n",
    "    connectionstyle=\"arc3,rad=.2\",\n",
    "    arrowstyle=\"Simple, tail_width=1.5, head_width=8, head_length=10\",\n",
    "    color=\"#444444\"\n",
    "))\n",
    "\n",
    "plt.text(0.40, 0.6, \"threshold 0.5\", fontsize=12)\n",
    "plt.title(\"Precision/Recall curve\", fontsize=15)\n",
    "plt.xlabel(\"Recall\")\n",
    "plt.ylabel(\"Precision\")\n",
    "plt.legend()\n",
    "plt.axis([0, 1, 0, 1])\n",
    "plt.grid()\n",
    "\n",
    "save_fig(\"Precision_recall\")\n",
    "plt.show()"
   ]
  },
  {
   "cell_type": "code",
   "execution_count": 25,
   "metadata": {},
   "outputs": [
    {
     "data": {
      "image/png": "[encoded data removed]",
      "text/plain": [
       "<Figure size 432x288 with 1 Axes>"
      ]
     },
     "metadata": {
      "needs_background": "light"
     },
     "output_type": "display_data"
    }
   ],
   "source": [
    "from sklearn.metrics import roc_curve\n",
    "\n",
    "fpr, tpr, thresholds = roc_curve(y_test, y_score)\n",
    "\n",
    "idx = (thresholds <= threshold).argmax()\n",
    "\n",
    "plt.plot(fpr, tpr, linewidth=2, label=\"ROC curve\")\n",
    "plt.plot([0, 1], [0, 1], \"k:\", label=\"Random classifier's ROC Curve\")\n",
    "plt.plot([fpr[idx]], [tpr[idx]], \"ko\", label=\"Threshold 0.50\")\n",
    "\n",
    "plt.gca().add_patch(patches.FancyArrowPatch(\n",
    "    (0.3, 0.7), (0.2, 0.8),\n",
    "    connectionstyle=\"arc3,rad=.4\",\n",
    "    arrowstyle=\"Simple, tail_width=1.5, head_width=8, head_length=10\",\n",
    "    color=\"#444444\"))\n",
    "\n",
    "plt.text(0.3, 0.6, \"threshold 0.5\", fontsize=12)\n",
    "plt.title(\"AUC ROC for Decision Tree\", fontsize=15)\n",
    "plt.ylabel(\"True positive rate (Recall)\")\n",
    "plt.xlabel(\"False positive rate (Fall-out)\")\n",
    "plt.axis([0, 1, 0, 1])\n",
    "plt.grid()\n",
    "plt.legend()\n",
    "\n",
    "save_fig(\"AUC ROC\")\n",
    "plt.show()"
   ]
  },
  {
   "cell_type": "code",
   "execution_count": 26,
   "metadata": {},
   "outputs": [
    {
     "name": "stdout",
     "output_type": "stream",
     "text": [
      "roc_auc_scr: 0.8901098901098901\n"
     ]
    }
   ],
   "source": [
    "# Plotting ROC AUC\n",
    "from sklearn.metrics import roc_auc_score\n",
    "\n",
    "roc_auc_scr = roc_auc_score(y_test, y_score)\n",
    "print('roc_auc_scr:', roc_auc_scr)"
   ]
  },
  {
   "cell_type": "code",
   "execution_count": 27,
   "metadata": {},
   "outputs": [
    {
     "name": "stdout",
     "output_type": "stream",
     "text": [
      "The Mean Absolute Error is : 0.0875\n",
      "The Root Mean Squared Erros is: 0.2958039891549808\n"
     ]
    }
   ],
   "source": [
    "#MAE and RMSE\n",
    "mae = mean_absolute_error(y_test, y_pred)\n",
    "rmse = sqrt(mean_squared_error(y_test, y_pred))\n",
    "print(f\"The Mean Absolute Error is :\", mae)\n",
    "print(f\"The Root Mean Squared Erros is:\",rmse)"
   ]
  },
  {
   "cell_type": "code",
   "execution_count": 28,
   "metadata": {},
   "outputs": [
    {
     "data": {
      "text/plain": [
       "array([0, 1, 0, 0, 0, 0, 0, 0, 0, 0, 0, 0, 0, 1, 0, 0, 1, 0, 0, 0, 0, 1,\n",
       "       0, 1, 0, 1, 0, 0, 1, 1, 0, 1, 1, 0, 1, 0, 0, 0, 0, 1, 0, 1, 0, 0,\n",
       "       1, 0, 1, 1, 0, 0, 0, 0, 1, 0, 1, 1, 0, 0, 0, 0, 0, 1, 0, 0, 0, 1,\n",
       "       0, 0, 0, 1, 1, 1, 0, 0, 0, 0, 0, 1, 1, 1], dtype=int64)"
      ]
     },
     "execution_count": 28,
     "metadata": {},
     "output_type": "execute_result"
    }
   ],
   "source": [
    "y_pred"
   ]
  }
 ],
 "metadata": {
  "kernelspec": {
   "display_name": "Python 3.9.12 ('tf')",
   "language": "python",
   "name": "python3"
  },
  "language_info": {
   "codemirror_mode": {
    "name": "ipython",
    "version": 3
   },
   "file_extension": ".py",
   "mimetype": "text/x-python",
   "name": "python",
   "nbconvert_exporter": "python",
   "pygments_lexer": "ipython3",
   "version": "3.9.12"
  },
  "orig_nbformat": 4,
  "vscode": {
   "interpreter": {
    "hash": "887ac75dc2cc3f5c9b6c7d03229781a4721934165547f85f767493abca5ce374"
   }
  }
 },
 "nbformat": 4,
 "nbformat_minor": 2
}
